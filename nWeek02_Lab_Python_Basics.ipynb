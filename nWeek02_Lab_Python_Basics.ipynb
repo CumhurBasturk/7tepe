{
  "nbformat": 4,
  "nbformat_minor": 0,
  "metadata": {
    "colab": {
      "name": "w1_Lecturework.ipynb",
      "provenance": []
    },
    "kernelspec": {
      "name": "python3",
      "display_name": "Python 3"
    }
  },
  "cells": [
    {
      "cell_type": "code",
      "metadata": {
        "colab": {
          "base_uri": "https://localhost:8080/"
        },
        "id": "29_aQnXtCWGf",
        "outputId": "37f5c54f-14c9-4c0b-8d5b-89f9049803a1"
      },
      "source": [
        "print ('Hello World')"
      ],
      "execution_count": null,
      "outputs": [
        {
          "output_type": "stream",
          "text": [
            "Hello World\n"
          ],
          "name": "stdout"
        }
      ]
    },
    {
      "cell_type": "code",
      "metadata": {
        "colab": {
          "base_uri": "https://localhost:8080/"
        },
        "id": "9OQrw_J9EHt-",
        "outputId": "da6e1391-e083-400c-9253-a0420e0b9426"
      },
      "source": [
        "print (\"Hello World\")\r\n",
        "print ('Hello World')"
      ],
      "execution_count": null,
      "outputs": [
        {
          "output_type": "stream",
          "text": [
            "Hello World\n",
            "Hello World\n"
          ],
          "name": "stdout"
        }
      ]
    },
    {
      "cell_type": "code",
      "metadata": {
        "colab": {
          "base_uri": "https://localhost:8080/"
        },
        "id": "0vnrC9HbErhI",
        "outputId": "81d5a8cc-b974-4742-d527-20155a5e7b42"
      },
      "source": [
        "print (\"Hello World'\")"
      ],
      "execution_count": null,
      "outputs": [
        {
          "output_type": "stream",
          "text": [
            "Hello World'\n"
          ],
          "name": "stdout"
        }
      ]
    },
    {
      "cell_type": "code",
      "metadata": {
        "colab": {
          "base_uri": "https://localhost:8080/"
        },
        "id": "1oYpo07oFAE-",
        "outputId": "7a7fe637-11d2-45fb-9cad-a65b63bb48d5"
      },
      "source": [
        "print ('\"Hello\\t\"wo\\nrld')"
      ],
      "execution_count": null,
      "outputs": [
        {
          "output_type": "stream",
          "text": [
            "\"Hello\t\"wo\n",
            "rld\n"
          ],
          "name": "stdout"
        }
      ]
    },
    {
      "cell_type": "code",
      "metadata": {
        "colab": {
          "base_uri": "https://localhost:8080/",
          "height": 128
        },
        "id": "2HfrQmhTGGuG",
        "outputId": "6cc2ef69-45c9-4e15-c114-1a2fe014934b"
      },
      "source": [
        "print (Hello World)"
      ],
      "execution_count": null,
      "outputs": [
        {
          "output_type": "error",
          "ename": "SyntaxError",
          "evalue": "ignored",
          "traceback": [
            "\u001b[0;36m  File \u001b[0;32m\"<ipython-input-16-f9d093f8741d>\"\u001b[0;36m, line \u001b[0;32m1\u001b[0m\n\u001b[0;31m    print (Hello World)\u001b[0m\n\u001b[0m                     ^\u001b[0m\n\u001b[0;31mSyntaxError\u001b[0m\u001b[0;31m:\u001b[0m invalid syntax\n"
          ]
        }
      ]
    },
    {
      "cell_type": "code",
      "metadata": {
        "id": "NR3Wl3afI-kr"
      },
      "source": [
        "mypop_2016= 79510000"
      ],
      "execution_count": null,
      "outputs": []
    },
    {
      "cell_type": "code",
      "metadata": {
        "colab": {
          "base_uri": "https://localhost:8080/"
        },
        "id": "1eC9-fJ5Jg7E",
        "outputId": "73cf0f92-c996-47fc-c8ed-eac33729bf35"
      },
      "source": [
        "my_elapsed= (2020 - 2016) * 365 * 24 * 60 * 60\r\n"
      ],
      "execution_count": null,
      "outputs": [
        {
          "output_type": "stream",
          "text": [
            "126144000\n"
          ],
          "name": "stdout"
        }
      ]
    },
    {
      "cell_type": "code",
      "metadata": {
        "colab": {
          "base_uri": "https://localhost:8080/"
        },
        "id": "bunt99A4KnFc",
        "outputId": "01e71634-e707-4a2f-f11b-7a0e6e71c45e"
      },
      "source": [
        "my_elapsed // 7"
      ],
      "execution_count": null,
      "outputs": [
        {
          "output_type": "execute_result",
          "data": {
            "text/plain": [
              "18020571"
            ]
          },
          "metadata": {
            "tags": []
          },
          "execution_count": 28
        }
      ]
    },
    {
      "cell_type": "code",
      "metadata": {
        "colab": {
          "base_uri": "https://localhost:8080/"
        },
        "id": "k8ptYa_GK9Ao",
        "outputId": "e0c30686-57df-4cfb-abf4-5d63195e3bb6"
      },
      "source": [
        "my_elapsed= (2020 - 2016) * 365 * 24 * 60 * 60\r\n",
        "dogum_adet= my_elapsed // 7\r\n",
        "\r\n",
        "my_elapsed"
      ],
      "execution_count": null,
      "outputs": [
        {
          "output_type": "execute_result",
          "data": {
            "text/plain": [
              "126144000"
            ]
          },
          "metadata": {
            "tags": []
          },
          "execution_count": 31
        }
      ]
    },
    {
      "cell_type": "code",
      "metadata": {
        "id": "J2L5kw3WLOJ9"
      },
      "source": [
        "del my_elapsed"
      ],
      "execution_count": null,
      "outputs": []
    },
    {
      "cell_type": "code",
      "metadata": {
        "colab": {
          "base_uri": "https://localhost:8080/",
          "height": 162
        },
        "id": "GmU8PBmgLQwT",
        "outputId": "87ff5b79-30f0-4014-e1e3-68aad6adabee"
      },
      "source": [
        "my_elapsed"
      ],
      "execution_count": null,
      "outputs": [
        {
          "output_type": "error",
          "ename": "NameError",
          "evalue": "ignored",
          "traceback": [
            "\u001b[0;31m---------------------------------------------------------------------------\u001b[0m",
            "\u001b[0;31mNameError\u001b[0m                                 Traceback (most recent call last)",
            "\u001b[0;32m<ipython-input-33-91bebfc10fbe>\u001b[0m in \u001b[0;36m<module>\u001b[0;34m()\u001b[0m\n\u001b[0;32m----> 1\u001b[0;31m \u001b[0mmy_elapsed\u001b[0m\u001b[0;34m\u001b[0m\u001b[0;34m\u001b[0m\u001b[0m\n\u001b[0m",
            "\u001b[0;31mNameError\u001b[0m: name 'my_elapsed' is not defined"
          ]
        }
      ]
    },
    {
      "cell_type": "code",
      "metadata": {
        "colab": {
          "base_uri": "https://localhost:8080/"
        },
        "id": "mgWV8GV3LYIJ",
        "outputId": "92c60706-2a23-4bf4-fa3a-185246c3a8fa"
      },
      "source": [
        "my_elapsed= (2020 - 2016) * 365 * 24 * 60 * 60\r\n",
        "dogum_adet= my_elapsed // 7\r\n",
        "\r\n",
        "print (my_elapsed , dogum_adet)\r\n"
      ],
      "execution_count": null,
      "outputs": [
        {
          "output_type": "stream",
          "text": [
            "126144000 18020571\n"
          ],
          "name": "stdout"
        }
      ]
    }
  ]
}