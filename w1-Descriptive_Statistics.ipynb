{
 "cells": [
  {
   "cell_type": "markdown",
   "metadata": {},
   "source": [
    "<p style=\"font-family: Arial Black; font-size:1.3em;color:red;\"> Section-I Inferential Statistics </p>   \n",
    "\n",
    "*  <span style='font-family: Arial Black;font-size:0.9em'> Load the libraries </span>    "
   ]
  },
  {
   "cell_type": "code",
   "execution_count": 3,
   "metadata": {},
   "outputs": [],
   "source": [
    "import numpy as np\n",
    "import pandas as pd\n",
    "import seaborn as sns\n",
    "import scipy.stats as stats\n",
    "import matplotlib.pyplot as plt\n",
    "%matplotlib inline\n",
    "sns.set()\n"
   ]
  },
  {
   "cell_type": "markdown",
   "metadata": {},
   "source": [
    "## Load the dataset"
   ]
  },
  {
   "cell_type": "markdown",
   "metadata": {},
   "source": [
    "What we have here is a data set for the IQ levels of students at Starbucks University which is assumed to follow a Normal distribution $IQ$ ~ $N(\\mu, \\sigma^{2})$ where $\\mu=110$ (mean IQ) and $\\sigma=5$ (standard deviation). The output is stored in file `IQSU.txt`. Use this data file to read the data into a Pandas dataframe for subsequent operations for data analysis."
   ]
  },
  {
   "cell_type": "code",
   "execution_count": 3,
   "metadata": {},
   "outputs": [
    {
     "data": {
      "text/html": [
       "<div>\n",
       "<style scoped>\n",
       "    .dataframe tbody tr th:only-of-type {\n",
       "        vertical-align: middle;\n",
       "    }\n",
       "\n",
       "    .dataframe tbody tr th {\n",
       "        vertical-align: top;\n",
       "    }\n",
       "\n",
       "    .dataframe thead th {\n",
       "        text-align: right;\n",
       "    }\n",
       "</style>\n",
       "<table border=\"1\" class=\"dataframe\">\n",
       "  <thead>\n",
       "    <tr style=\"text-align: right;\">\n",
       "      <th></th>\n",
       "      <th>0</th>\n",
       "    </tr>\n",
       "  </thead>\n",
       "  <tbody>\n",
       "    <tr>\n",
       "      <th>0</th>\n",
       "      <td>112.206137</td>\n",
       "    </tr>\n",
       "    <tr>\n",
       "      <th>1</th>\n",
       "      <td>108.345649</td>\n",
       "    </tr>\n",
       "    <tr>\n",
       "      <th>2</th>\n",
       "      <td>122.153856</td>\n",
       "    </tr>\n",
       "    <tr>\n",
       "      <th>3</th>\n",
       "      <td>108.739539</td>\n",
       "    </tr>\n",
       "    <tr>\n",
       "      <th>4</th>\n",
       "      <td>110.548049</td>\n",
       "    </tr>\n",
       "  </tbody>\n",
       "</table>\n",
       "</div>"
      ],
      "text/plain": [
       "            0\n",
       "0  112.206137\n",
       "1  108.345649\n",
       "2  122.153856\n",
       "3  108.739539\n",
       "4  110.548049"
      ]
     },
     "execution_count": 3,
     "metadata": {},
     "output_type": "execute_result"
    }
   ],
   "source": [
    "# read from the data file\n",
    "df = pd.read_csv('data/IQSU.txt', header=None)\n",
    "df.head()"
   ]
  },
  {
   "cell_type": "code",
   "execution_count": 3,
   "metadata": {},
   "outputs": [
    {
     "name": "stdout",
     "output_type": "stream",
     "text": [
      "Shape of df: (1000, 1)\n",
      "Type of df : <class 'pandas.core.frame.DataFrame'>\n"
     ]
    }
   ],
   "source": [
    "print('Shape of df:',df.shape)\n",
    "print('Type of df :',type(df))"
   ]
  },
  {
   "cell_type": "code",
   "execution_count": 5,
   "metadata": {},
   "outputs": [
    {
     "name": "stdout",
     "output_type": "stream",
     "text": [
      "Type of IQ: <class 'pandas.core.series.Series'>\n"
     ]
    }
   ],
   "source": [
    "IQ = df.iloc[:, 0] # All rows from the first (0) column of dataframe\n",
    "print('Type of IQ:', type(IQ))"
   ]
  },
  {
   "cell_type": "code",
   "execution_count": 6,
   "metadata": {},
   "outputs": [
    {
     "data": {
      "text/plain": [
       "count    1000.000000\n",
       "mean      110.166385\n",
       "std         4.951921\n",
       "min        93.580423\n",
       "25%       106.881725\n",
       "50%       110.118628\n",
       "75%       113.507488\n",
       "max       128.061593\n",
       "Name: 0, dtype: float64"
      ]
     },
     "execution_count": 6,
     "metadata": {},
     "output_type": "execute_result"
    }
   ],
   "source": [
    "IQ.describe()"
   ]
  },
  {
   "cell_type": "markdown",
   "metadata": {},
   "source": [
    "We shall create a histogram with bins containing the number of data points within the interval defined by that specific bin.\n",
    "For example, the count below gives the number of measurements within the range of $100 < IQ \\leq 120$ "
   ]
  },
  {
   "cell_type": "code",
   "execution_count": 6,
   "metadata": {},
   "outputs": [
    {
     "name": "stdout",
     "output_type": "stream",
     "text": [
      "949 out of 1000\n"
     ]
    }
   ],
   "source": [
    "# How many data points do we have between 100 and 120 (including 120)\n",
    "print(sum(1 for i in IQ if ((i > 100) & (i <= 120))), 'out of', len(IQ))"
   ]
  },
  {
   "cell_type": "markdown",
   "metadata": {},
   "source": [
    "## Histogram (frequency distribution)"
   ]
  },
  {
   "cell_type": "code",
   "execution_count": 7,
   "metadata": {},
   "outputs": [
    {
     "data": {
      "image/png": "[encoded data removed]",
      "text/plain": [
       "<Figure size 432x288 with 1 Axes>"
      ]
     },
     "metadata": {},
     "output_type": "display_data"
    }
   ],
   "source": [
    "# plotting a histogram directly from pandas\n",
    "df.hist(bins=20, histtype='step', lw=2); "
   ]
  },
  {
   "cell_type": "markdown",
   "metadata": {},
   "source": [
    "#### How deos bin size affect the histogram?\n",
    "The `bins` parameter tells you the number of bins that your data will be divided into. You can specify it as an integer or as a list of bin edges."
   ]
  },
  {
   "cell_type": "code",
   "execution_count": 19,
   "metadata": {},
   "outputs": [
    {
     "data": {
      "image/png": "[encoded data removed]",
      "text/plain": [
       "<Figure size 864x432 with 4 Axes>"
      ]
     },
     "metadata": {},
     "output_type": "display_data"
    }
   ],
   "source": [
    "plt.figure(figsize=(12,6))\n",
    "# subplot(number_of_rows, number_of_columns, active_subplot)\n",
    "plt.subplot(2,2,1) \n",
    "plt.hist(IQ, bins=10, color='g', label='bins=10')\n",
    "plt.legend(loc='upper right')\n",
    "\n",
    "plt.subplot(2,2,2)\n",
    "plt.hist(IQ, bins=20, color='g', label='bins=20')\n",
    "plt.legend(loc='upper right')\n",
    "\n",
    "plt.subplot(2,2,3)\n",
    "plt.hist(IQ, bins=30, color='g', label='bins=30')\n",
    "plt.legend(loc='upper right')\n",
    "\n",
    "plt.subplot(2,2,4)\n",
    "plt.hist(IQ, bins=range(90,130,5), color='g', label='bins=range(90,130,5)')\n",
    "plt.legend(loc='upper right')\n",
    "\n",
    "#plt.tight_layout()\n",
    "plt.show()"
   ]
  },
  {
   "cell_type": "code",
   "execution_count": 13,
   "metadata": {},
   "outputs": [
    {
     "data": {
      "image/png": "[encoded data removed]",
      "text/plain": [
       "<Figure size 576x360 with 1 Axes>"
      ]
     },
     "metadata": {},
     "output_type": "display_data"
    }
   ],
   "source": [
    "plt.figure(figsize=(8,5))\n",
    "plt.hist(IQ, bins=20, color='g', label='IQ @ SU')\n",
    "plt.title('Student IQs @ Starbucks University')\n",
    "plt.xlabel('Student IQ') ; plt.ylabel('#Count') ; plt.legend(loc='upper right')\n",
    "plt.show()"
   ]
  },
  {
   "cell_type": "markdown",
   "metadata": {},
   "source": [
    "## Histogram (relative frequency)"
   ]
  },
  {
   "cell_type": "code",
   "execution_count": 14,
   "metadata": {},
   "outputs": [
    {
     "data": {
      "image/png": "[encoded data removed]",
      "text/plain": [
       "<Figure size 576x360 with 1 Axes>"
      ]
     },
     "metadata": {},
     "output_type": "display_data"
    }
   ],
   "source": [
    "plt.figure(figsize=(8,5))\n",
    "plt.hist(IQ, bins=20, density=True, color='g', label='IQ @ SU') # remove density=True, it becomes freq dist\n",
    "plt.title('Student IQs @ Starbucks University')\n",
    "plt.xlabel('Student IQ') ; plt.ylabel('Density') ; plt.legend(loc='upper right')\n",
    "plt.show()"
   ]
  },
  {
   "cell_type": "markdown",
   "metadata": {},
   "source": [
    "## Cumulative relative frequency"
   ]
  },
  {
   "cell_type": "code",
   "execution_count": 18,
   "metadata": {},
   "outputs": [
    {
     "data": {
      "image/png": "[encoded data removed]",
      "text/plain": [
       "<Figure size 504x360 with 1 Axes>"
      ]
     },
     "metadata": {},
     "output_type": "display_data"
    }
   ],
   "source": [
    "plt.figure(figsize=(7,5))\n",
    "plt.hist(IQ, bins=50, density=True, cumulative=1, color='g', label='IQ @ SU')\n",
    "plt.title('Student IQs @ Starbucks University')\n",
    "plt.xlabel('Student IQ') ; plt.ylabel('Cumulative relative freq.')\n",
    "plt.legend(loc='upper left')\n",
    "plt.show()"
   ]
  },
  {
   "cell_type": "markdown",
   "metadata": {},
   "source": [
    "## Skewness"
   ]
  },
  {
   "cell_type": "code",
   "execution_count": 16,
   "metadata": {},
   "outputs": [
    {
     "name": "stdout",
     "output_type": "stream",
     "text": [
      "Skewness: 0.0029397970778169413\n"
     ]
    }
   ],
   "source": [
    "print('Skewness:', IQ.skew())"
   ]
  },
  {
   "cell_type": "code",
   "execution_count": 17,
   "metadata": {},
   "outputs": [
    {
     "name": "stdout",
     "output_type": "stream",
     "text": [
      "Skewness: 0.0029353855435398464\n"
     ]
    }
   ],
   "source": [
    "# Using SciPy\n",
    "import scipy.stats\n",
    "print('Skewness:', scipy.stats.skew(IQ))"
   ]
  },
  {
   "cell_type": "markdown",
   "metadata": {},
   "source": [
    "<b>Result:</b> -0.5 < skewness < 0.5 => Based on these results, we can say that our data has a symmetric distribution"
   ]
  },
  {
   "cell_type": "markdown",
   "metadata": {},
   "source": [
    "## Measure of central tendency and spread (dispersion)\n",
    "\n",
    "`Mean`: The average of the data set<br>\n",
    "$$\\bar{x} = \\frac{1}{n}$$\n",
    "`Median`: Measure of the center of the data set (50th percentile)<br>\n",
    "`Mode`: Point with the highest frequency\n",
    "\n",
    "`Variance`: Measure of how far a set of numbers are spread out from their average  \n",
    "$$s^2 = \\frac{\\sum_{i=1}^n (x_i - \\overline{x}_n)^2}{n-1}  $$\n",
    "`Standard deviation`: Square root of variance (takes the units of measure of the data that it represents) "
   ]
  },
  {
   "cell_type": "code",
   "execution_count": 22,
   "metadata": {},
   "outputs": [
    {
     "name": "stdout",
     "output_type": "stream",
     "text": [
      "Mean    : 58.7 (using formula)\n",
      "Mean    : 58.7 (using numpy)\n",
      "Median  : 71.5 (using numpy)\n",
      "Std dev : 28.913856731870123 (using formula)\n",
      "Std dev : 28.913856731870123 (using numpy)\n"
     ]
    }
   ],
   "source": [
    "import random\n",
    "# create a random list of 10 numbers in range(0,100)\n",
    "x = random.sample(range(0, 100), 10) \n",
    "print('Mean    :', sum(x)/len(x), '(using formula)')\n",
    "print('Mean    :', np.mean(x), '(using numpy)')\n",
    "print('Median  :', np.median(x), '(using numpy)')\n",
    "print('Std dev :', np.sqrt(sum((x-np.mean(x))**2)/(len(x)-1)), '(using formula)')\n",
    "print('Std dev :', np.std(x, ddof=1), '(using numpy)')"
   ]
  },
  {
   "cell_type": "markdown",
   "metadata": {},
   "source": [
    "## Boxplots"
   ]
  },
  {
   "cell_type": "code",
   "execution_count": 7,
   "metadata": {},
   "outputs": [
    {
     "data": {
      "image/png": "[encoded data removed]",
      "text/plain": [
       "<Figure size 432x288 with 2 Axes>"
      ]
     },
     "metadata": {},
     "output_type": "display_data"
    }
   ],
   "source": [
    "plt.axes([0.1,0.01,0.3,0.8]) \n",
    "ax = sns.boxplot(IQ, showmeans=True, orient='v')\n",
    "ax.set_title('Student IQ')\n",
    "\n",
    "plt.axes([0.5,0.01,1.0,0.4])\n",
    "ax = sns.boxplot(IQ, showmeans=True, orient='h')\n",
    "ax.set_title('Student IQ')\n",
    "plt.show()"
   ]
  },
  {
   "cell_type": "markdown",
   "metadata": {},
   "source": [
    "#### How does a boxplot look like for a skewed distribution?"
   ]
  },
  {
   "cell_type": "code",
   "execution_count": 29,
   "metadata": {},
   "outputs": [
    {
     "data": {
      "text/plain": [
       "(10, 1)"
      ]
     },
     "execution_count": 29,
     "metadata": {},
     "output_type": "execute_result"
    }
   ],
   "source": [
    "yy = np.random.randn(10,1)\n",
    "yy.shape"
   ]
  },
  {
   "cell_type": "code",
   "execution_count": 30,
   "metadata": {},
   "outputs": [
    {
     "data": {
      "image/png": "[encoded data removed]",
      "text/plain": [
       "<Figure size 576x396 with 1 Axes>"
      ]
     },
     "metadata": {},
     "output_type": "display_data"
    }
   ],
   "source": [
    "np.random.seed(42)  # To ensure we get the same data every time.\n",
    "# random.rnadn(100,1) - An array with 100 points shape:(100,1)\n",
    "X = (np.random.randn(100,1) * 5 + 10)**2\n",
    "plt.hist(X, bins=15);"
   ]
  },
  {
   "cell_type": "code",
   "execution_count": 21,
   "metadata": {},
   "outputs": [
    {
     "data": {
      "image/png": "[encoded data removed]",
      "text/plain": [
       "<Figure size 576x144 with 1 Axes>"
      ]
     },
     "metadata": {},
     "output_type": "display_data"
    }
   ],
   "source": [
    "# change the fig size and make it horizontal\n",
    "plt.figure(figsize=(8, 2))\n",
    "sns.boxplot(X, showmeans=True, orient='h');"
   ]
  },
  {
   "cell_type": "markdown",
   "metadata": {},
   "source": [
    "The mean and median are clearly separated for a highly skewed data"
   ]
  },
  {
   "cell_type": "markdown",
   "metadata": {},
   "source": [
    "### Multiple boxplots"
   ]
  },
  {
   "cell_type": "code",
   "execution_count": 22,
   "metadata": {},
   "outputs": [
    {
     "data": {
      "image/png": "[encoded data removed]",
      "text/plain": [
       "<Figure size 576x288 with 1 Axes>"
      ]
     },
     "metadata": {},
     "output_type": "display_data"
    }
   ],
   "source": [
    "City1 = np.random.normal(10,3,120)\n",
    "City2 = np.random.normal(7,3,120)\n",
    "City3 = np.random.normal(5,3,120)\n",
    "location = [City1, City2, City3]\n",
    "plt.figure(figsize=(8, 4))\n",
    "plt.boxplot(location, showmeans=True)\n",
    "plt.xticks([1, 2, 3], ['City1', 'City2', 'City3'])\n",
    "plt.show()"
   ]
  },
  {
   "cell_type": "markdown",
   "metadata": {},
   "source": [
    "We'll now draw a random sample from a **GAMMA** distribution (highly skewed) and examine the QQ plot:"
   ]
  },
  {
   "cell_type": "code",
   "execution_count": 6,
   "metadata": {},
   "outputs": [
    {
     "data": {
      "image/png": "[encoded data removed]",
      "text/plain": [
       "<Figure size 432x288 with 1 Axes>"
      ]
     },
     "metadata": {},
     "output_type": "display_data"
    }
   ],
   "source": [
    "plt.axes([0.1,0.01,0.8,0.8])\n",
    "rate = 0.5\n",
    "y2 = np.random.gamma(shape=2, scale=1/rate, size=10000)\n",
    "plt.hist(y2, bins=50, density=True, facecolor=\"blue\", alpha=0.7)\n",
    "plt.show()\n"
   ]
  },
  {
   "cell_type": "markdown",
   "metadata": {},
   "source": [
    "# Example\n",
    "\n",
    "## Effect of bin size\n",
    "In a restaurant, one waiter recorded information about each tip he received over a period of a few months working in one restaurant. He collected the following variables and created a small and simple dataset:\n",
    "\n",
    "|Variable|Explanation|\n",
    "|---|---|\n",
    "|obs|Observation number|\n",
    "|totbill|The cost of the bill in US dollars|\n",
    "|tip|Tip in US dollars|\n",
    "|sex|Gender of the bill payer|\n",
    "|smoker|Whether the party included smokers|\n",
    "|day|Day of the week|\n",
    "|time|Time of day|\n",
    "|size|Size of the party|\n",
    "\n",
    "There are 244 records in the dataset. The data was reported in a collection of case studies for business statistics (Bryant & Smith 1995). The primary goal is: What are the factors that affect tipping behavior?\n",
    "\n",
    "Out of 7 variables (obs not included), 3 variables are numerical and 4 variables are categorical.\n",
    "\n",
    "The most important variable here is: **tip**<br>\n",
    "So let's take a look at the histogram for the tip and see what it can tell us:\n",
    "\n",
    "Ref: http://ggobi.org"
   ]
  },
  {
   "cell_type": "code",
   "execution_count": 27,
   "metadata": {},
   "outputs": [
    {
     "data": {
      "text/html": [
       "<div>\n",
       "<style scoped>\n",
       "    .dataframe tbody tr th:only-of-type {\n",
       "        vertical-align: middle;\n",
       "    }\n",
       "\n",
       "    .dataframe tbody tr th {\n",
       "        vertical-align: top;\n",
       "    }\n",
       "\n",
       "    .dataframe thead th {\n",
       "        text-align: right;\n",
       "    }\n",
       "</style>\n",
       "<table border=\"1\" class=\"dataframe\">\n",
       "  <thead>\n",
       "    <tr style=\"text-align: right;\">\n",
       "      <th></th>\n",
       "      <th>obs</th>\n",
       "      <th>totbill</th>\n",
       "      <th>tip</th>\n",
       "      <th>sex</th>\n",
       "      <th>smoker</th>\n",
       "      <th>day</th>\n",
       "      <th>time</th>\n",
       "      <th>size</th>\n",
       "    </tr>\n",
       "  </thead>\n",
       "  <tbody>\n",
       "    <tr>\n",
       "      <th>0</th>\n",
       "      <td>1</td>\n",
       "      <td>16.99</td>\n",
       "      <td>1.01</td>\n",
       "      <td>F</td>\n",
       "      <td>No</td>\n",
       "      <td>Sun</td>\n",
       "      <td>Night</td>\n",
       "      <td>2</td>\n",
       "    </tr>\n",
       "    <tr>\n",
       "      <th>1</th>\n",
       "      <td>2</td>\n",
       "      <td>10.34</td>\n",
       "      <td>1.66</td>\n",
       "      <td>M</td>\n",
       "      <td>No</td>\n",
       "      <td>Sun</td>\n",
       "      <td>Night</td>\n",
       "      <td>3</td>\n",
       "    </tr>\n",
       "    <tr>\n",
       "      <th>2</th>\n",
       "      <td>3</td>\n",
       "      <td>21.01</td>\n",
       "      <td>3.50</td>\n",
       "      <td>M</td>\n",
       "      <td>No</td>\n",
       "      <td>Sun</td>\n",
       "      <td>Night</td>\n",
       "      <td>3</td>\n",
       "    </tr>\n",
       "    <tr>\n",
       "      <th>3</th>\n",
       "      <td>4</td>\n",
       "      <td>23.68</td>\n",
       "      <td>3.31</td>\n",
       "      <td>M</td>\n",
       "      <td>No</td>\n",
       "      <td>Sun</td>\n",
       "      <td>Night</td>\n",
       "      <td>2</td>\n",
       "    </tr>\n",
       "    <tr>\n",
       "      <th>4</th>\n",
       "      <td>5</td>\n",
       "      <td>24.59</td>\n",
       "      <td>3.61</td>\n",
       "      <td>F</td>\n",
       "      <td>No</td>\n",
       "      <td>Sun</td>\n",
       "      <td>Night</td>\n",
       "      <td>4</td>\n",
       "    </tr>\n",
       "  </tbody>\n",
       "</table>\n",
       "</div>"
      ],
      "text/plain": [
       "   obs  totbill   tip sex smoker  day   time  size\n",
       "0    1    16.99  1.01   F     No  Sun  Night     2\n",
       "1    2    10.34  1.66   M     No  Sun  Night     3\n",
       "2    3    21.01  3.50   M     No  Sun  Night     3\n",
       "3    4    23.68  3.31   M     No  Sun  Night     2\n",
       "4    5    24.59  3.61   F     No  Sun  Night     4"
      ]
     },
     "execution_count": 27,
     "metadata": {},
     "output_type": "execute_result"
    }
   ],
   "source": [
    "import numpy as np\n",
    "import pandas as pd\n",
    "import matplotlib.pyplot as plt\n",
    "%matplotlib inline\n",
    "\n",
    "df = pd.read_csv('./data/tips.csv', sep=\",\")\n",
    "df.head()"
   ]
  },
  {
   "cell_type": "code",
   "execution_count": 28,
   "metadata": {},
   "outputs": [
    {
     "data": {
      "text/html": [
       "<div>\n",
       "<style scoped>\n",
       "    .dataframe tbody tr th:only-of-type {\n",
       "        vertical-align: middle;\n",
       "    }\n",
       "\n",
       "    .dataframe tbody tr th {\n",
       "        vertical-align: top;\n",
       "    }\n",
       "\n",
       "    .dataframe thead th {\n",
       "        text-align: right;\n",
       "    }\n",
       "</style>\n",
       "<table border=\"1\" class=\"dataframe\">\n",
       "  <thead>\n",
       "    <tr style=\"text-align: right;\">\n",
       "      <th></th>\n",
       "      <th>count</th>\n",
       "      <th>mean</th>\n",
       "      <th>std</th>\n",
       "      <th>min</th>\n",
       "      <th>25%</th>\n",
       "      <th>50%</th>\n",
       "      <th>75%</th>\n",
       "      <th>max</th>\n",
       "    </tr>\n",
       "  </thead>\n",
       "  <tbody>\n",
       "    <tr>\n",
       "      <th>obs</th>\n",
       "      <td>244.0</td>\n",
       "      <td>122.500000</td>\n",
       "      <td>70.580923</td>\n",
       "      <td>1.00</td>\n",
       "      <td>61.7500</td>\n",
       "      <td>122.500</td>\n",
       "      <td>183.2500</td>\n",
       "      <td>244.00</td>\n",
       "    </tr>\n",
       "    <tr>\n",
       "      <th>totbill</th>\n",
       "      <td>244.0</td>\n",
       "      <td>19.785943</td>\n",
       "      <td>8.902412</td>\n",
       "      <td>3.07</td>\n",
       "      <td>13.3475</td>\n",
       "      <td>17.795</td>\n",
       "      <td>24.1275</td>\n",
       "      <td>50.81</td>\n",
       "    </tr>\n",
       "    <tr>\n",
       "      <th>tip</th>\n",
       "      <td>244.0</td>\n",
       "      <td>2.998279</td>\n",
       "      <td>1.383638</td>\n",
       "      <td>1.00</td>\n",
       "      <td>2.0000</td>\n",
       "      <td>2.900</td>\n",
       "      <td>3.5625</td>\n",
       "      <td>10.00</td>\n",
       "    </tr>\n",
       "    <tr>\n",
       "      <th>size</th>\n",
       "      <td>244.0</td>\n",
       "      <td>2.569672</td>\n",
       "      <td>0.951100</td>\n",
       "      <td>1.00</td>\n",
       "      <td>2.0000</td>\n",
       "      <td>2.000</td>\n",
       "      <td>3.0000</td>\n",
       "      <td>6.00</td>\n",
       "    </tr>\n",
       "  </tbody>\n",
       "</table>\n",
       "</div>"
      ],
      "text/plain": [
       "         count        mean        std   min      25%      50%       75%  \\\n",
       "obs      244.0  122.500000  70.580923  1.00  61.7500  122.500  183.2500   \n",
       "totbill  244.0   19.785943   8.902412  3.07  13.3475   17.795   24.1275   \n",
       "tip      244.0    2.998279   1.383638  1.00   2.0000    2.900    3.5625   \n",
       "size     244.0    2.569672   0.951100  1.00   2.0000    2.000    3.0000   \n",
       "\n",
       "            max  \n",
       "obs      244.00  \n",
       "totbill   50.81  \n",
       "tip       10.00  \n",
       "size       6.00  "
      ]
     },
     "execution_count": 28,
     "metadata": {},
     "output_type": "execute_result"
    }
   ],
   "source": [
    "df.describe().T"
   ]
  },
  {
   "cell_type": "code",
   "execution_count": 29,
   "metadata": {},
   "outputs": [
    {
     "data": {
      "image/png": "[encoded data removed]",
      "text/plain": [
       "<Figure size 576x432 with 1 Axes>"
      ]
     },
     "metadata": {
      "needs_background": "light"
     },
     "output_type": "display_data"
    }
   ],
   "source": [
    "#Let's create a histogram for the \"tip\"\n",
    "tip = df.tip\n",
    "plt.figure(figsize=(8,6))\n",
    "plt.hist(tip, bins=np.arange(0,12,1)-0.5, align='left', facecolor=\"orange\", edgecolor='k')\n",
    "plt.xticks(range(11))\n",
    "plt.ylabel('#Counts',fontsize=15)\n",
    "plt.xlabel('Amount of tip ($)',fontsize=15)\n",
    "plt.show()"
   ]
  },
  {
   "cell_type": "markdown",
   "metadata": {},
   "source": [
    "We choose an initial bin width of 1 (dollar) and produce the above histogram. The **distribution appears to be unimodal and skewed**; that is, it has one peak, the bar representing the tips greater than \\$1.00 and less than or equal  \\$2.00. There are\n",
    "very few tips of \\$1.00 or less. The number of larger tips trails off rapidly, which suggests that this is not a very expensive restaurant. \n",
    "\n",
    "What if change the bin size (say \\$ 0.1 = 10 cents) and plot the histogram again?"
   ]
  },
  {
   "cell_type": "code",
   "execution_count": 30,
   "metadata": {},
   "outputs": [
    {
     "data": {
      "image/png": "[encoded data removed]",
      "text/plain": [
       "<Figure size 576x432 with 1 Axes>"
      ]
     },
     "metadata": {
      "needs_background": "light"
     },
     "output_type": "display_data"
    }
   ],
   "source": [
    "plt.figure(figsize=(8,6))\n",
    "plt.hist(tip, bins=100, align='left', facecolor=\"orange\", edgecolor='k')\n",
    "plt.xticks(range(11))\n",
    "plt.ylabel('#Counts',fontsize=15)\n",
    "plt.xlabel('Amount of tip ($)',fontsize=15)\n",
    "plt.show()"
   ]
  },
  {
   "cell_type": "markdown",
   "metadata": {},
   "source": [
    "At the smaller bin width (10 cents), the **shape is multimodal**, and it is clear that there are **large peaks at the full\n",
    "dollars** and **smaller peaks at the half dollar**. This shows that the **customers tended to round the tip to the nearest fifty cents or dollar**. So a smaller bin width can bring out some of the more local features which may not be apparent in the wider bins which are more suitable for global trends."
   ]
  }
 ],
 "metadata": {
  "anaconda-cloud": {},
  "kernelspec": {
   "display_name": "Python 3",
   "language": "python",
   "name": "python3"
  },
  "language_info": {
   "codemirror_mode": {
    "name": "ipython",
    "version": 3
   },
   "file_extension": ".py",
   "mimetype": "text/x-python",
   "name": "python",
   "nbconvert_exporter": "python",
   "pygments_lexer": "ipython3",
   "version": "3.7.9"
  }
 },
 "nbformat": 4,
 "nbformat_minor": 4
}
