{
  "nbformat": 4,
  "nbformat_minor": 0,
  "metadata": {
    "colab": {
      "name": "If_recit_7tepe.ipynb",
      "provenance": [],
      "collapsed_sections": []
    },
    "kernelspec": {
      "name": "python3",
      "display_name": "Python 3"
    }
  },
  "cells": [
    {
      "cell_type": "markdown",
      "metadata": {
        "id": "yL-u6o1ryaYB"
      },
      "source": [
        "# Credit Approval (Nested Decision Structure)"
      ]
    },
    {
      "cell_type": "markdown",
      "metadata": {
        "id": "SOaZ4ZzwykC8"
      },
      "source": [
        "When people apply to banks for credit, bank authorities will check for some criterias. Surely, this is a complex process in real life, but let’s simplify the criterias for the current example. Assume that we have following criterias to make a decision for a credit application."
      ]
    },
    {
      "cell_type": "markdown",
      "metadata": {
        "id": "-zhN9rrkzGwH"
      },
      "source": [
        "![alt text](https://lh3.googleusercontent.com/byRla4wYuDafSYbFSm9d2OQDlJSvualxrvgCIAkeloW8Zj9jC6Wcez_j7lIF2uS0w86v7MYDf0udOdWSDTVzYy5uPZ12t6R3LHn8Elg4FqsaJpAupmHHYX6lNkNf3_unDLi54OomtvJ9xdzjVyOdDpNu3wZ3VHn5r9Qx8hx2-YVAv0AJYvkouR0nqUM6-tLf7yARyyZfojIYkKutbx-o23FYHfe5RLOylmf-YOyLvaOmZ1q6UgELt6bU-Z21kTJQO8KAeXD9eCiEsqXPFnspnTC90jftgsgt-2-7bYV4QK-jwpoST8OEbvIePFXnb9Eg8gynjYV2tZvrAfNdvaLGihLGD8wJWXqdtbiOtKFaKkl6I2TarxmJ7qVtpYXqvmeKV0uP2l8P0cVv7USLcBi7WnDF-wMFWf2DNQm8z8H_7ZXJmMf6kEeW1uZdpgTd0Azb8VROw6Z40qaejKiV798NOUC21nqLjynevV0tptexkNYMwZ1hh7Xcy6E9dm7zxkTwUO5q9xx03l_aeii9-vrL3C0pYj05f3ei1G9XFEbTTlA0oOkck-yCOt8G2od8wy9XJZPXn9Op3EKu7SPUbKGmkfqPvobBnU3C1lZn_BJiLOVqsAnsVT1DhPh6JqexMvrRSJ0flz_wnEMqZ12pYyNlF9taLGL05H0=w1408-h848-no)"
      ]
    },
    {
      "cell_type": "markdown",
      "metadata": {
        "id": "1Q7xsvJbzJMK"
      },
      "source": [
        "Write a program that asks three different input values from your colleague. These inputs will be age (integer), employee (“Yes” or “No”), and credit rating (“Excellent” or “Fair”). Depending on these inputs, you will come up with a decision for the credit application."
      ]
    },
    {
      "cell_type": "markdown",
      "metadata": {
        "id": "HqIU46Hq8td5"
      },
      "source": [
        "Below, you may find some example program runs.\n",
        "\n",
        "\n",
        "---\n",
        "**Sample Run1:**\n",
        "\n",
        "`Please enter the age:` **29**\n",
        "\n",
        "`Please enter whether employee or not`:  **No**\n",
        "\n",
        "`Decision for the credit application: No`\n",
        "\n",
        "\n",
        "---\n",
        "**Sample Run2:**\n",
        "\n",
        "`Please enter the age:` **30**\n",
        "\n",
        "`Please enter whether employee or not`:  **Yes**\n",
        "\n",
        "`Decision for the credit application: Yes`\n",
        "\n",
        "\n",
        "---\n",
        "**Sample Run3:**\n",
        "\n",
        "`Please enter the age:` **40**\n",
        "\n",
        "`Decision for the credit application: Yes`\n",
        "\n",
        "\n",
        "---\n",
        "**Sample Run4:**\n",
        "\n",
        "`Please enter the age:` **55**\n",
        "\n",
        "`Please enter the credit rating:` **Fair**\n",
        "\n",
        "`Decision for the credit application: No`\n",
        "\n",
        "\n",
        "---\n",
        "**Sample Run5:**\n",
        "\n",
        "`Please enter the age:` **68**\n",
        "\n",
        "`Please enter the credit rating:` **Excellent**\n",
        "\n",
        "`Decision for the credit application: Yes`"
      ]
    }
  ]
}
