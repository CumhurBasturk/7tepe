{
  "nbformat": 4,
  "nbformat_minor": 0,
  "metadata": {
    "colab": {
      "name": "7tepe_basics_and_if_else_elif.ipynb",
      "provenance": [],
      "collapsed_sections": []
    },
    "kernelspec": {
      "name": "python3",
      "display_name": "Python 3"
    }
  },
  "cells": [
    {
      "cell_type": "markdown",
      "metadata": {
        "id": "XT3revQebbWz"
      },
      "source": [
        "# **Python Data Types (Introduction)**"
      ]
    },
    {
      "cell_type": "markdown",
      "metadata": {
        "id": "LC7GGG1Ebhvn"
      },
      "source": [
        "### **str**"
      ]
    },
    {
      "cell_type": "code",
      "metadata": {
        "id": "h2kvh8WabfrD",
        "colab": {
          "base_uri": "https://localhost:8080/"
        },
        "outputId": "452f573a-79f2-488e-c593-e2406711fe04"
      },
      "source": [
        "type('abc'),  type('987'), type('a5b'), 'r'"
      ],
      "execution_count": 73,
      "outputs": [
        {
          "output_type": "execute_result",
          "data": {
            "text/plain": [
              "(str, str, str, 'r')"
            ]
          },
          "metadata": {
            "tags": []
          },
          "execution_count": 73
        }
      ]
    },
    {
      "cell_type": "markdown",
      "metadata": {
        "id": "6endWNUHbmRt"
      },
      "source": [
        "### **int**"
      ]
    },
    {
      "cell_type": "code",
      "metadata": {
        "id": "dcvkwmjqbo8M",
        "colab": {
          "base_uri": "https://localhost:8080/"
        },
        "outputId": "d52af1d0-9709-4dad-b734-af9cf11742f1"
      },
      "source": [
        "15"
      ],
      "execution_count": 59,
      "outputs": [
        {
          "output_type": "execute_result",
          "data": {
            "text/plain": [
              "15"
            ]
          },
          "metadata": {
            "tags": []
          },
          "execution_count": 59
        }
      ]
    },
    {
      "cell_type": "markdown",
      "metadata": {
        "id": "BmLPISG1bpZU"
      },
      "source": [
        "### **float**"
      ]
    },
    {
      "cell_type": "code",
      "metadata": {
        "id": "zmA6MBVabxCE",
        "colab": {
          "base_uri": "https://localhost:8080/"
        },
        "outputId": "c284b104-143f-4fba-e7ea-4fba936e88ac"
      },
      "source": [
        "3.2512124923"
      ],
      "execution_count": 74,
      "outputs": [
        {
          "output_type": "execute_result",
          "data": {
            "text/plain": [
              "float"
            ]
          },
          "metadata": {
            "tags": []
          },
          "execution_count": 74
        }
      ]
    },
    {
      "cell_type": "code",
      "metadata": {
        "colab": {
          "base_uri": "https://localhost:8080/"
        },
        "id": "6CIe8uu6J5Ih",
        "outputId": "ef17a0fa-3c16-4f2f-f9e4-93615ca5cc91"
      },
      "source": [
        "n= 1\r\n",
        "print (n)\r\n",
        "\r\n",
        "p= n\r\n",
        "print (p)\r\n",
        "n= 5\r\n",
        "\r\n",
        "print ('----')\r\n",
        "print (p)\r\n",
        "print (n)\r\n"
      ],
      "execution_count": 6,
      "outputs": [
        {
          "output_type": "stream",
          "text": [
            "1\n",
            "1\n",
            "----\n",
            "1\n",
            "5\n"
          ],
          "name": "stdout"
        }
      ]
    },
    {
      "cell_type": "markdown",
      "metadata": {
        "id": "HOMlX3V6aOih"
      },
      "source": [
        "# **Print Usage & Outputs in Python**"
      ]
    },
    {
      "cell_type": "code",
      "metadata": {
        "id": "SgbMD_jIaacc"
      },
      "source": [
        "\"The estimated population will be 91.43 million in 2020.\""
      ],
      "execution_count": null,
      "outputs": []
    },
    {
      "cell_type": "code",
      "metadata": {
        "id": "P70kPbmuae9w"
      },
      "source": [
        "pop= 91.46\r\n",
        "year= 2020"
      ],
      "execution_count": 29,
      "outputs": []
    },
    {
      "cell_type": "code",
      "metadata": {
        "id": "IOTJxEhHamlr",
        "colab": {
          "base_uri": "https://localhost:8080/"
        },
        "outputId": "3d415bad-7fba-475f-e88b-4cc797000ec9"
      },
      "source": [
        "print(\"The estimated population will be\" , pop ,  \"million in\",  year, \".\")"
      ],
      "execution_count": 11,
      "outputs": [
        {
          "output_type": "stream",
          "text": [
            "The estimated population will be 91.43 million in 2020 .\n"
          ],
          "name": "stdout"
        }
      ]
    },
    {
      "cell_type": "code",
      "metadata": {
        "id": "d7DALQ5xXsA8",
        "colab": {
          "base_uri": "https://localhost:8080/"
        },
        "outputId": "b4dd9dbd-7372-4b2a-f03f-8b88492a349f"
      },
      "source": [
        "print(\"The estimated population will be \" , pop ,  \" million in \",  year, \".\",  sep=\"\")"
      ],
      "execution_count": 16,
      "outputs": [
        {
          "output_type": "stream",
          "text": [
            "The estimated population will be 91.43 million in 2020.\n"
          ],
          "name": "stdout"
        }
      ]
    },
    {
      "cell_type": "code",
      "metadata": {
        "id": "0MESHILvb6yS",
        "colab": {
          "base_uri": "https://localhost:8080/"
        },
        "outputId": "1afb15e2-7312-4b4d-d3f6-894dfffa4f20"
      },
      "source": [
        "print(\"The estimated population will be \" + str(pop) +  \" million in \" +  str(year) + \".\")"
      ],
      "execution_count": 22,
      "outputs": [
        {
          "output_type": "stream",
          "text": [
            "The estimated population will be 91.43 million in 2020.\n"
          ],
          "name": "stdout"
        }
      ]
    },
    {
      "cell_type": "code",
      "metadata": {
        "id": "RUgECkTCd7fT",
        "colab": {
          "base_uri": "https://localhost:8080/"
        },
        "outputId": "d70e5e5f-23cb-47ba-8f42-5972ccc8630e"
      },
      "source": [
        "print(f\"The estimated population will be {format(pop, '.1f')} million in {year}.\")"
      ],
      "execution_count": 36,
      "outputs": [
        {
          "output_type": "stream",
          "text": [
            "The estimated population will be 91.5 million in 2020.\n"
          ],
          "name": "stdout"
        }
      ]
    },
    {
      "cell_type": "code",
      "metadata": {
        "colab": {
          "base_uri": "https://localhost:8080/"
        },
        "id": "WnNHncrjeK_d",
        "outputId": "54e72709-cf3e-4547-ac3d-439289d61184"
      },
      "source": [
        "#format for float numbers\r\n",
        "print(pop, format(pop, '.1f'))\r\n"
      ],
      "execution_count": 33,
      "outputs": [
        {
          "output_type": "stream",
          "text": [
            "91.46 91.5\n"
          ],
          "name": "stdout"
        }
      ]
    },
    {
      "cell_type": "code",
      "metadata": {
        "colab": {
          "base_uri": "https://localhost:8080/",
          "height": 35
        },
        "id": "cPnW_uUiUCsh",
        "outputId": "fed4731a-5891-483a-9bc4-68ab3f116812"
      },
      "source": [
        "\"\"\" sdf \"\"\"\r\n",
        "# sdf "
      ],
      "execution_count": 39,
      "outputs": [
        {
          "output_type": "execute_result",
          "data": {
            "application/vnd.google.colaboratory.intrinsic+json": {
              "type": "string"
            },
            "text/plain": [
              "' sdf '"
            ]
          },
          "metadata": {
            "tags": []
          },
          "execution_count": 39
        }
      ]
    },
    {
      "cell_type": "markdown",
      "metadata": {
        "id": "-feCjRglfOhh"
      },
      "source": [
        "## **Precedence of Arithmetic Operators**"
      ]
    },
    {
      "cell_type": "code",
      "metadata": {
        "id": "eRKDjJewfTMt",
        "colab": {
          "base_uri": "https://localhost:8080/"
        },
        "outputId": "b269ad2d-e64f-4751-ff67-4068633a42d3"
      },
      "source": [
        "#print (5*2**3**(1+1)-7)"
      ],
      "execution_count": 37,
      "outputs": [
        {
          "output_type": "stream",
          "text": [
            "2553\n"
          ],
          "name": "stdout"
        }
      ]
    },
    {
      "cell_type": "markdown",
      "metadata": {
        "id": "BevVOCt-UJGW"
      },
      "source": [
        "# **Inputs in Python**"
      ]
    },
    {
      "cell_type": "code",
      "metadata": {
        "id": "CI6iKg6kUNMI"
      },
      "source": [
        "input()"
      ],
      "execution_count": null,
      "outputs": []
    },
    {
      "cell_type": "code",
      "metadata": {
        "id": "xiNd6vZaUN7q"
      },
      "source": [
        "name= input()"
      ],
      "execution_count": null,
      "outputs": []
    },
    {
      "cell_type": "code",
      "metadata": {
        "id": "xms8Xk79UR3E"
      },
      "source": [
        "name= input('Please enter a name :')\r\n",
        "print (name)"
      ],
      "execution_count": null,
      "outputs": []
    },
    {
      "cell_type": "code",
      "metadata": {
        "id": "gKOeZFbnUWcz"
      },
      "source": [
        "surname= input(name + \",please enter your surname :\")\r\n",
        "print (surname)"
      ],
      "execution_count": null,
      "outputs": []
    },
    {
      "cell_type": "code",
      "metadata": {
        "id": "Z5ZDOFToUkXB"
      },
      "source": [
        "print (name , surname)"
      ],
      "execution_count": null,
      "outputs": []
    },
    {
      "cell_type": "code",
      "metadata": {
        "id": "xK0uo32HU0II"
      },
      "source": [
        "surname= input(name, ',please enter your surname :')\r\n",
        "print (surname)"
      ],
      "execution_count": null,
      "outputs": []
    },
    {
      "cell_type": "markdown",
      "metadata": {
        "id": "-jNVw4b_R053"
      },
      "source": [
        "# **Estimate Population**"
      ]
    },
    {
      "cell_type": "markdown",
      "metadata": {
        "id": "9uUSHh7USDF-"
      },
      "source": [
        "We are going to estimate the population of Turkey based on the following data:\r\n",
        "\r\n",
        "79.51 million in 2016.\r\n",
        "\r\n",
        "Every 7 seconds, a birth happens.\r\n",
        "\r\n",
        "Every 13 seconds, a death happens.\r\n",
        "\r\n",
        "Every 35 seconds, a new immigrant comes.\r\n",
        "\r\n",
        "## What will the population be in 2020?\r\n"
      ]
    },
    {
      "cell_type": "code",
      "metadata": {
        "id": "tl2sWFEuR7xt"
      },
      "source": [
        ""
      ],
      "execution_count": null,
      "outputs": []
    },
    {
      "cell_type": "markdown",
      "metadata": {
        "id": "xgU7XTe-JlML"
      },
      "source": [
        "# **Boolean Operations**\r\n",
        "\r\n"
      ]
    },
    {
      "cell_type": "code",
      "metadata": {
        "id": "Qx5tmNk0JujJ"
      },
      "source": [
        "x= True\r\n",
        "y= False"
      ],
      "execution_count": null,
      "outputs": []
    },
    {
      "cell_type": "code",
      "metadata": {
        "id": "wbmRn1oLJ-_y"
      },
      "source": [
        ""
      ],
      "execution_count": null,
      "outputs": []
    },
    {
      "cell_type": "markdown",
      "metadata": {
        "id": "TCeH0Hx6JzMa"
      },
      "source": [
        "# **Comparison Operatorions**"
      ]
    },
    {
      "cell_type": "code",
      "metadata": {
        "id": "qbIf_vFNJ5c6"
      },
      "source": [
        "x= 10\r\n",
        "y= 12"
      ],
      "execution_count": null,
      "outputs": []
    },
    {
      "cell_type": "code",
      "metadata": {
        "id": "9NXZr-dSKB7g"
      },
      "source": [
        ""
      ],
      "execution_count": null,
      "outputs": []
    },
    {
      "cell_type": "markdown",
      "metadata": {
        "id": "7ArSA2X0Kyg4"
      },
      "source": [
        "# **Absolute Value**\r\n",
        "Input number\r\n",
        "\r\n",
        "If number < 0     number *= -1  Print number"
      ]
    },
    {
      "cell_type": "code",
      "metadata": {
        "id": "Epa5Zr4YLQiM"
      },
      "source": [
        "user_number= "
      ],
      "execution_count": null,
      "outputs": []
    },
    {
      "cell_type": "code",
      "metadata": {
        "id": "brHh__eZK1zg"
      },
      "source": [
        ""
      ],
      "execution_count": null,
      "outputs": []
    },
    {
      "cell_type": "markdown",
      "metadata": {
        "id": "yVQ9FftWNKU2"
      },
      "source": [
        "# **SPS GRADE CALCULATION**"
      ]
    },
    {
      "cell_type": "code",
      "metadata": {
        "id": "fIyphTS1Oe4Q"
      },
      "source": [
        "midterm1= \r\n",
        "midterm2= \r\n",
        "essay_outline= \r\n",
        "essay_final_draft=  \r\n",
        "discussions=  \r\n",
        "in_lecture_questions=  "
      ],
      "execution_count": null,
      "outputs": []
    },
    {
      "cell_type": "code",
      "metadata": {
        "id": "I9rhHz57PIud"
      },
      "source": [
        "\"\"\"num_grade= (midterm1 * 0.20)\\\r\n",
        " + (midterm2 * 0.20) \\\r\n",
        " + (essay_outline * 0.05) \\\r\n",
        " + (essay_final_draft * 0.25) \\\r\n",
        " + (discussions * 0.20) \\\r\n",
        " + (in_lecture_questions * 0.10)\"\"\""
      ],
      "execution_count": null,
      "outputs": []
    },
    {
      "cell_type": "code",
      "metadata": {
        "id": "BM_5M038Pzjg"
      },
      "source": [
        ""
      ],
      "execution_count": null,
      "outputs": []
    }
  ]
}