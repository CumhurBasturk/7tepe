{
 "cells": [
  {
   "cell_type": "markdown",
   "metadata": {},
   "source": [
    "### Random Password Generator"
   ]
  },
  {
   "cell_type": "markdown",
   "metadata": {},
   "source": [
    "Write a Python program that generates a random password\n",
    "* checks whether the generated password is good or not, and if not, re-generates another random password until the generated password is a good password\n",
    "\n",
    "- The password should have a random length between 7 and 10\n",
    "    - and each character should be randomly selected from the positions between 33 and 126 in the ASCII table \n",
    "    \n",
    "\n",
    "- A good password should contain at least one uppercase letter, and at least one number \n"
   ]
  },
  {
   "cell_type": "markdown",
   "metadata": {},
   "source": [
    "## Ascii Table\n",
    "![alt text](https://www.asciitable.com/index/asciifull.gif)"
   ]
  },
  {
   "cell_type": "markdown",
   "metadata": {},
   "source": [
    "#### Decomposition: Random Password Generator"
   ]
  },
  {
   "cell_type": "markdown",
   "metadata": {},
   "source": [
    "1. Generate a random password\n",
    "\n",
    "2. Check whether the password is good or not\n",
    "\n",
    "3. In case that the password is not good, re-generate a new password continuously until it is good\n"
   ]
  },
  {
   "cell_type": "markdown",
   "metadata": {},
   "source": [
    "Let's write a **function** that generates and displays a random password \n",
    "\n",
    "- length between 7 and 10, and \n",
    "\n",
    "- randomly selected from positions between 33 and 126 in ASCII\n"
   ]
  },
  {
   "cell_type": "code",
   "execution_count": 190,
   "metadata": {},
   "outputs": [],
   "source": [
    "import random"
   ]
  },
  {
   "cell_type": "code",
   "execution_count": 206,
   "metadata": {},
   "outputs": [
    {
     "data": {
      "text/plain": [
       "10"
      ]
     },
     "execution_count": 206,
     "metadata": {},
     "output_type": "execute_result"
    }
   ],
   "source": [
    "random.randint(7,10)"
   ]
  },
  {
   "cell_type": "code",
   "execution_count": 217,
   "metadata": {},
   "outputs": [
    {
     "data": {
      "text/plain": [
       "'.'"
      ]
     },
     "execution_count": 217,
     "metadata": {},
     "output_type": "execute_result"
    }
   ],
   "source": [
    "chr(random.randint(33,126))"
   ]
  },
  {
   "cell_type": "code",
   "execution_count": 219,
   "metadata": {},
   "outputs": [
    {
     "data": {
      "text/plain": [
       "'abc'"
      ]
     },
     "execution_count": 219,
     "metadata": {},
     "output_type": "execute_result"
    }
   ],
   "source": [
    "'' + 'a' + 'b' + 'c' "
   ]
  },
  {
   "cell_type": "code",
   "execution_count": 221,
   "metadata": {},
   "outputs": [
    {
     "data": {
      "text/plain": [
       "[0, 1, 2, 3, 4, 5, 6]"
      ]
     },
     "execution_count": 221,
     "metadata": {},
     "output_type": "execute_result"
    }
   ],
   "source": [
    "list(range(7))"
   ]
  },
  {
   "cell_type": "code",
   "execution_count": 229,
   "metadata": {},
   "outputs": [
    {
     "name": "stdout",
     "output_type": "stream",
     "text": [
      "password length: 8\n",
      "W\\IZ|SzK\n"
     ]
    }
   ],
   "source": [
    "p_length= random.randint(7,10)\n",
    "print ('password length:' , p_length)\n",
    "passwd= \"\"\n",
    "for i in range(p_length):\n",
    "    p_char= chr(random.randint(33,126))\n",
    "    passwd += p_char\n",
    "    #passwd = passwd + p_char\n",
    "print (passwd)    "
   ]
  },
  {
   "cell_type": "markdown",
   "metadata": {},
   "source": [
    "#### Let's write a function for the code above"
   ]
  },
  {
   "cell_type": "code",
   "execution_count": 230,
   "metadata": {},
   "outputs": [],
   "source": [
    "def p_gen():\n",
    "    passwd= ''\n",
    "    passwd_length= random.randint(7,10)\n",
    "    for i in range(passwd_length):\n",
    "        passwd_char= chr(random.randint(33,126))\n",
    "        passwd += passwd_char\n",
    "    print (passwd)"
   ]
  },
  {
   "cell_type": "code",
   "execution_count": 252,
   "metadata": {},
   "outputs": [
    {
     "name": "stdout",
     "output_type": "stream",
     "text": [
      "R2]'0`|?N\n"
     ]
    }
   ],
   "source": [
    "p_gen()  "
   ]
  },
  {
   "cell_type": "code",
   "execution_count": 253,
   "metadata": {},
   "outputs": [
    {
     "name": "stdout",
     "output_type": "stream",
     "text": [
      "-m/u+b87A\n"
     ]
    },
    {
     "ename": "TypeError",
     "evalue": "object of type 'NoneType' has no len()",
     "output_type": "error",
     "traceback": [
      "\u001b[1;31m---------------------------------------------------------------------------\u001b[0m",
      "\u001b[1;31mTypeError\u001b[0m                                 Traceback (most recent call last)",
      "\u001b[1;32m<ipython-input-253-2dd769b87e98>\u001b[0m in \u001b[0;36m<module>\u001b[1;34m\u001b[0m\n\u001b[0;32m      1\u001b[0m \u001b[0mmy_password\u001b[0m\u001b[1;33m=\u001b[0m \u001b[0mp_gen\u001b[0m\u001b[1;33m(\u001b[0m\u001b[1;33m)\u001b[0m\u001b[1;33m\u001b[0m\u001b[0m\n\u001b[1;32m----> 2\u001b[1;33m \u001b[1;32mfor\u001b[0m \u001b[0mj\u001b[0m \u001b[1;32min\u001b[0m \u001b[0mrange\u001b[0m\u001b[1;33m(\u001b[0m\u001b[0mlen\u001b[0m\u001b[1;33m(\u001b[0m\u001b[0mmy_password\u001b[0m\u001b[1;33m)\u001b[0m\u001b[1;33m)\u001b[0m\u001b[1;33m:\u001b[0m\u001b[1;33m\u001b[0m\u001b[0m\n\u001b[0m\u001b[0;32m      3\u001b[0m     \u001b[1;32mif\u001b[0m \u001b[1;34m'a'\u001b[0m \u001b[1;33m<=\u001b[0m \u001b[0mmy_password\u001b[0m\u001b[1;33m[\u001b[0m\u001b[0mj\u001b[0m\u001b[1;33m]\u001b[0m \u001b[1;33m<=\u001b[0m \u001b[1;34m'z'\u001b[0m\u001b[1;33m:\u001b[0m\u001b[1;33m\u001b[0m\u001b[0m\n\u001b[0;32m      4\u001b[0m         \u001b[0mpasswd_char_control\u001b[0m \u001b[1;33m=\u001b[0m \u001b[1;32mTrue\u001b[0m\u001b[1;33m\u001b[0m\u001b[0m\n\u001b[0;32m      5\u001b[0m         \u001b[0mprint\u001b[0m \u001b[1;33m(\u001b[0m\u001b[0mj\u001b[0m\u001b[1;33m)\u001b[0m\u001b[1;33m\u001b[0m\u001b[0m\n",
      "\u001b[1;31mTypeError\u001b[0m: object of type 'NoneType' has no len()"
     ]
    }
   ],
   "source": [
    "my_password= p_gen()\n",
    "for j in range(len(my_password)):\n",
    "    if 'a' <= my_password[j] <= 'z':\n",
    "        passwd_char_control = True\n",
    "        print (j)\n",
    "        "
   ]
  },
  {
   "cell_type": "markdown",
   "metadata": {},
   "source": [
    "##### Let's try another approach"
   ]
  },
  {
   "cell_type": "code",
   "execution_count": 254,
   "metadata": {},
   "outputs": [],
   "source": [
    "def p_gen2():\n",
    "    passwd= ''\n",
    "    passwd_length= random.randint(7,10)\n",
    "    for i in range(passwd_length):\n",
    "        passwd_char= chr(random.randint(33,126))\n",
    "        passwd += passwd_char\n",
    "    return passwd"
   ]
  },
  {
   "cell_type": "code",
   "execution_count": 255,
   "metadata": {},
   "outputs": [
    {
     "name": "stdout",
     "output_type": "stream",
     "text": [
      "@yU@7/g+\"J\n"
     ]
    }
   ],
   "source": [
    "my_passwd= p_gen2()\n",
    "print (my_passwd)"
   ]
  },
  {
   "cell_type": "markdown",
   "metadata": {},
   "source": [
    "#### Return Statement in a Function"
   ]
  },
  {
   "cell_type": "markdown",
   "metadata": {},
   "source": [
    "- You can return a value from a function\n",
    "\n",
    "- The statement  *return [expression]*  exits a function, optionally passing back an expression to the caller"
   ]
  },
  {
   "cell_type": "markdown",
   "metadata": {},
   "source": [
    "***Note 1:*** When a return statement is executed, the function immediately terminates, even if whole process in the function \n",
    "has not finished yet (like break in loops)\n",
    "\n",
    "***Note 2:*** There might be multiple return statements in a function"
   ]
  },
  {
   "cell_type": "markdown",
   "metadata": {},
   "source": [
    "- You can also return multiple values from a function\n",
    "\n",
    "- There are multiple ways of doing this (i.e, lists, tuples ..)\n",
    "\n",
    "- General usage: tuples"
   ]
  },
  {
   "cell_type": "code",
   "execution_count": 256,
   "metadata": {},
   "outputs": [
    {
     "name": "stdin",
     "output_type": "stream",
     "text": [
      "Enter a sentence:  welcome home...\n"
     ]
    },
    {
     "name": "stdout",
     "output_type": "stream",
     "text": [
      "Uppercase letters: 0\n",
      "Lowercase letters: 11\n",
      "In total:  11\n"
     ]
    }
   ],
   "source": [
    "def countUpperLowerLetters(str):\n",
    "  upperCount = 0\n",
    "  lowerCount = 0\n",
    "  for ch in str:\n",
    "    if 'a' <= ch <= 'z':\n",
    "      lowerCount = lowerCount + 1\n",
    "      #lowerCount += 1\n",
    "    elif 'A' <= ch <= 'Z':\n",
    "      upperCount = upperCount + 1\n",
    "      \n",
    "  return upperCount, lowerCount\n",
    "\n",
    "sentence = input(\"Enter a sentence: \")\n",
    "up, low = countUpperLowerLetters(sentence)\n",
    "print(\"Uppercase letters:\", up)\n",
    "print(\"Lowercase letters:\", low)\n",
    "print(\"In total: \", up + low)"
   ]
  },
  {
   "cell_type": "code",
   "execution_count": 147,
   "metadata": {},
   "outputs": [],
   "source": [
    "def checkUpperLetter(passwd):\n",
    "    for c_ in passwd:\n",
    "        if 'A' <= c_ <= 'Z':\n",
    "            return True\n",
    "    return False\n"
   ]
  },
  {
   "cell_type": "code",
   "execution_count": null,
   "metadata": {},
   "outputs": [],
   "source": [
    "3e;/Tk<D"
   ]
  },
  {
   "cell_type": "code",
   "execution_count": 154,
   "metadata": {},
   "outputs": [],
   "source": [
    "my_password= p_gen2()"
   ]
  },
  {
   "cell_type": "code",
   "execution_count": 155,
   "metadata": {},
   "outputs": [
    {
     "name": "stdout",
     "output_type": "stream",
     "text": [
      ":\"LxI\"Y+D)\n"
     ]
    },
    {
     "data": {
      "text/plain": [
       "True"
      ]
     },
     "execution_count": 155,
     "metadata": {},
     "output_type": "execute_result"
    }
   ],
   "source": [
    "print (my_password)\n",
    "checkUpperLetter(my_password)"
   ]
  },
  {
   "cell_type": "code",
   "execution_count": 158,
   "metadata": {},
   "outputs": [],
   "source": [
    "def checkDigit(passwd):\n",
    "    for n_ in passwd:\n",
    "        if '0' <= n_ <= '9':\n",
    "            return True\n",
    "    return False"
   ]
  },
  {
   "cell_type": "code",
   "execution_count": 162,
   "metadata": {},
   "outputs": [
    {
     "name": "stdout",
     "output_type": "stream",
     "text": [
      ":\"LxI\"Y+D)\n"
     ]
    },
    {
     "data": {
      "text/plain": [
       "False"
      ]
     },
     "execution_count": 162,
     "metadata": {},
     "output_type": "execute_result"
    }
   ],
   "source": [
    "print (my_password)\n",
    "checkDigit(my_password)"
   ]
  },
  {
   "cell_type": "markdown",
   "metadata": {},
   "source": [
    "#### Let's create a LOOP using While"
   ]
  },
  {
   "cell_type": "code",
   "execution_count": 189,
   "metadata": {},
   "outputs": [
    {
     "name": "stdout",
     "output_type": "stream",
     "text": [
      "F#Jsy(UW@\n",
      "w[@yt_vn\n",
      ".=`pl%Q\n",
      "'ddzwP]$\n",
      "W_Cx{:F>K\"\n",
      "~n_sK/(\n",
      "final password: fA5u9MO}~a\n"
     ]
    }
   ],
   "source": [
    "my_password= p_gen2()\n",
    "while (not checkUpperLetter(my_password)) or (not checkDigit(my_password)):\n",
    "    print (my_password)\n",
    "    my_password= p_gen2()\n",
    "print ('final password:' , my_password)    "
   ]
  }
 ],
 "metadata": {
  "kernelspec": {
   "display_name": "Python 3",
   "language": "python",
   "name": "python3"
  },
  "language_info": {
   "codemirror_mode": {
    "name": "ipython",
    "version": 3
   },
   "file_extension": ".py",
   "mimetype": "text/x-python",
   "name": "python",
   "nbconvert_exporter": "python",
   "pygments_lexer": "ipython3",
   "version": "3.6.4"
  }
 },
 "nbformat": 4,
 "nbformat_minor": 4
}
