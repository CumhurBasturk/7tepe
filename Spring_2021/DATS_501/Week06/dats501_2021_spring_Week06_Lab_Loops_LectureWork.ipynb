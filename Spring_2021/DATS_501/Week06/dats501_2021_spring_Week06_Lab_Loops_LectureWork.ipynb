{
 "cells": [
  {
   "cell_type": "code",
   "execution_count": null,
   "metadata": {
    "colab": {
     "base_uri": "https://localhost:8080/",
     "height": 215
    },
    "colab_type": "code",
    "executionInfo": {
     "elapsed": 877,
     "status": "error",
     "timestamp": 1553673117804,
     "user": {
      "displayName": "Inanc Arin",
      "photoUrl": "https://lh6.googleusercontent.com/-fj98ABbeufg/AAAAAAAAAAI/AAAAAAAAKqQ/wS6AdNqoJ1k/s64/photo.jpg",
      "userId": "13506187371134847290"
     },
     "user_tz": -180
    },
    "id": "UswrRcC0C8ij",
    "outputId": "36efeb3b-d0d2-49a1-f9d6-cbf7d4f796a6"
   },
   "outputs": [],
   "source": [
    "x = [5, 11, 8, 10]\n",
    "\n",
    "for i in 10:\n",
    "  print(\"hello\")"
   ]
  },
  {
   "cell_type": "code",
   "execution_count": null,
   "metadata": {
    "colab": {
     "base_uri": "https://localhost:8080/",
     "height": 85
    },
    "colab_type": "code",
    "executionInfo": {
     "elapsed": 944,
     "status": "ok",
     "timestamp": 1553673171297,
     "user": {
      "displayName": "Inanc Arin",
      "photoUrl": "https://lh6.googleusercontent.com/-fj98ABbeufg/AAAAAAAAAAI/AAAAAAAAKqQ/wS6AdNqoJ1k/s64/photo.jpg",
      "userId": "13506187371134847290"
     },
     "user_tz": -180
    },
    "id": "9pc3Evh1IqUt",
    "outputId": "95be0f6f-73cc-4567-8233-5c2f369ff564"
   },
   "outputs": [],
   "source": [
    "x = [5, 11, 8, 10]\n",
    "\n",
    "for i in x:\n",
    "  print(\"hello\")"
   ]
  },
  {
   "cell_type": "code",
   "execution_count": null,
   "metadata": {
    "colab": {
     "base_uri": "https://localhost:8080/",
     "height": 85
    },
    "colab_type": "code",
    "executionInfo": {
     "elapsed": 803,
     "status": "ok",
     "timestamp": 1553673243308,
     "user": {
      "displayName": "Inanc Arin",
      "photoUrl": "https://lh6.googleusercontent.com/-fj98ABbeufg/AAAAAAAAAAI/AAAAAAAAKqQ/wS6AdNqoJ1k/s64/photo.jpg",
      "userId": "13506187371134847290"
     },
     "user_tz": -180
    },
    "id": "FZfWWn-JIy1c",
    "outputId": "86b1d30a-da48-467c-d42c-0fccb3932dde"
   },
   "outputs": [],
   "source": [
    "x = [5, 11, 8, 10]\n",
    "\n",
    "for i in x:\n",
    "  print(i**2)"
   ]
  },
  {
   "cell_type": "code",
   "execution_count": null,
   "metadata": {
    "colab": {
     "base_uri": "https://localhost:8080/",
     "height": 85
    },
    "colab_type": "code",
    "executionInfo": {
     "elapsed": 975,
     "status": "ok",
     "timestamp": 1553673434540,
     "user": {
      "displayName": "Inanc Arin",
      "photoUrl": "https://lh6.googleusercontent.com/-fj98ABbeufg/AAAAAAAAAAI/AAAAAAAAKqQ/wS6AdNqoJ1k/s64/photo.jpg",
      "userId": "13506187371134847290"
     },
     "user_tz": -180
    },
    "id": "TnoNlIo1JEc2",
    "outputId": "e9054734-3110-49da-e582-678112f46593"
   },
   "outputs": [],
   "source": [
    "x2 = []\n",
    "#[25], [25,121], [25,121,64]\n",
    "for i in x:\n",
    "    x2 += [i**2] # x2 = x2 + [i**2]\n",
    "    print(x2)\n",
    "  "
   ]
  },
  {
   "cell_type": "code",
   "execution_count": null,
   "metadata": {
    "colab": {
     "base_uri": "https://localhost:8080/",
     "height": 34
    },
    "colab_type": "code",
    "executionInfo": {
     "elapsed": 870,
     "status": "ok",
     "timestamp": 1553673522604,
     "user": {
      "displayName": "Inanc Arin",
      "photoUrl": "https://lh6.googleusercontent.com/-fj98ABbeufg/AAAAAAAAAAI/AAAAAAAAKqQ/wS6AdNqoJ1k/s64/photo.jpg",
      "userId": "13506187371134847290"
     },
     "user_tz": -180
    },
    "id": "uSGn4Q7IJ5bo",
    "outputId": "a0b58075-ff98-452e-8854-069c3b0e9657"
   },
   "outputs": [],
   "source": [
    "x2 = []\n",
    "#[25], [25,121], [25,121,64]\n",
    "for i in x:\n",
    "    x2 += [i**2] # x2 = x2 + [i**1]\n",
    "print(x2)"
   ]
  },
  {
   "cell_type": "code",
   "execution_count": null,
   "metadata": {
    "colab": {
     "base_uri": "https://localhost:8080/",
     "height": 102
    },
    "colab_type": "code",
    "executionInfo": {
     "elapsed": 1004,
     "status": "ok",
     "timestamp": 1553673560495,
     "user": {
      "displayName": "Inanc Arin",
      "photoUrl": "https://lh6.googleusercontent.com/-fj98ABbeufg/AAAAAAAAAAI/AAAAAAAAKqQ/wS6AdNqoJ1k/s64/photo.jpg",
      "userId": "13506187371134847290"
     },
     "user_tz": -180
    },
    "id": "H6l3CqBUKK5C",
    "outputId": "378417f0-b32e-4760-859f-811181058098"
   },
   "outputs": [],
   "source": [
    "for i in range(5):\n",
    "    print(i)"
   ]
  },
  {
   "cell_type": "code",
   "execution_count": null,
   "metadata": {
    "colab": {
     "base_uri": "https://localhost:8080/",
     "height": 102
    },
    "colab_type": "code",
    "executionInfo": {
     "elapsed": 803,
     "status": "ok",
     "timestamp": 1553673587208,
     "user": {
      "displayName": "Inanc Arin",
      "photoUrl": "https://lh6.googleusercontent.com/-fj98ABbeufg/AAAAAAAAAAI/AAAAAAAAKqQ/wS6AdNqoJ1k/s64/photo.jpg",
      "userId": "13506187371134847290"
     },
     "user_tz": -180
    },
    "id": "XXCqOg8TKR1-",
    "outputId": "d7fdeaf5-caf0-4844-b0e0-4ec3b40fdefd"
   },
   "outputs": [],
   "source": [
    "for i in range(5):\n",
    "    print(\"hello\")"
   ]
  },
  {
   "cell_type": "code",
   "execution_count": null,
   "metadata": {
    "colab": {
     "base_uri": "https://localhost:8080/",
     "height": 34
    },
    "colab_type": "code",
    "executionInfo": {
     "elapsed": 1022,
     "status": "ok",
     "timestamp": 1553673612925,
     "user": {
      "displayName": "Inanc Arin",
      "photoUrl": "https://lh6.googleusercontent.com/-fj98ABbeufg/AAAAAAAAAAI/AAAAAAAAKqQ/wS6AdNqoJ1k/s64/photo.jpg",
      "userId": "13506187371134847290"
     },
     "user_tz": -180
    },
    "id": "a1sGiGRnKeSi",
    "outputId": "c731b44f-1a71-486a-e606-cb1c85af7da4"
   },
   "outputs": [],
   "source": [
    "x"
   ]
  },
  {
   "cell_type": "code",
   "execution_count": null,
   "metadata": {
    "colab": {
     "base_uri": "https://localhost:8080/",
     "height": 85
    },
    "colab_type": "code",
    "executionInfo": {
     "elapsed": 897,
     "status": "ok",
     "timestamp": 1553673666887,
     "user": {
      "displayName": "Inanc Arin",
      "photoUrl": "https://lh6.googleusercontent.com/-fj98ABbeufg/AAAAAAAAAAI/AAAAAAAAKqQ/wS6AdNqoJ1k/s64/photo.jpg",
      "userId": "13506187371134847290"
     },
     "user_tz": -180
    },
    "id": "uE4UOTRiKYaH",
    "outputId": "425d1729-f506-47b5-818c-36e3495924f4"
   },
   "outputs": [],
   "source": [
    "for i in range(4):\n",
    "  print(i, x[i])\n",
    "  "
   ]
  },
  {
   "cell_type": "code",
   "execution_count": null,
   "metadata": {
    "colab": {
     "base_uri": "https://localhost:8080/",
     "height": 85
    },
    "colab_type": "code",
    "executionInfo": {
     "elapsed": 858,
     "status": "ok",
     "timestamp": 1553673685202,
     "user": {
      "displayName": "Inanc Arin",
      "photoUrl": "https://lh6.googleusercontent.com/-fj98ABbeufg/AAAAAAAAAAI/AAAAAAAAKqQ/wS6AdNqoJ1k/s64/photo.jpg",
      "userId": "13506187371134847290"
     },
     "user_tz": -180
    },
    "id": "GrzFmj88Klyg",
    "outputId": "a1282712-5a5b-46b9-94d7-1041f8978ae3"
   },
   "outputs": [],
   "source": [
    "for i in range(4):\n",
    "  print(x[i])\n",
    "  "
   ]
  },
  {
   "cell_type": "code",
   "execution_count": null,
   "metadata": {
    "colab": {
     "base_uri": "https://localhost:8080/",
     "height": 85
    },
    "colab_type": "code",
    "executionInfo": {
     "elapsed": 734,
     "status": "ok",
     "timestamp": 1553673703724,
     "user": {
      "displayName": "Inanc Arin",
      "photoUrl": "https://lh6.googleusercontent.com/-fj98ABbeufg/AAAAAAAAAAI/AAAAAAAAKqQ/wS6AdNqoJ1k/s64/photo.jpg",
      "userId": "13506187371134847290"
     },
     "user_tz": -180
    },
    "id": "YptXoOvnKwU5",
    "outputId": "1aa98735-eb94-4963-f6aa-bbf48683a3e5"
   },
   "outputs": [],
   "source": [
    "for i in x:\n",
    "  print(i)"
   ]
  },
  {
   "cell_type": "code",
   "execution_count": null,
   "metadata": {
    "colab": {
     "base_uri": "https://localhost:8080/",
     "height": 51
    },
    "colab_type": "code",
    "executionInfo": {
     "elapsed": 932,
     "status": "ok",
     "timestamp": 1553673959041,
     "user": {
      "displayName": "Inanc Arin",
      "photoUrl": "https://lh6.googleusercontent.com/-fj98ABbeufg/AAAAAAAAAAI/AAAAAAAAKqQ/wS6AdNqoJ1k/s64/photo.jpg",
      "userId": "13506187371134847290"
     },
     "user_tz": -180
    },
    "id": "bucxt_GGK04a",
    "outputId": "4c796990-f503-430d-e3ba-c1414ceac5bd"
   },
   "outputs": [],
   "source": [
    "x = [10, 20]\n",
    "for i in range(len(x)):\n",
    "  print(x[i])\n",
    "  "
   ]
  },
  {
   "cell_type": "code",
   "execution_count": null,
   "metadata": {
    "colab": {
     "base_uri": "https://localhost:8080/",
     "height": 51
    },
    "colab_type": "code",
    "executionInfo": {
     "elapsed": 884,
     "status": "ok",
     "timestamp": 1553673864828,
     "user": {
      "displayName": "Inanc Arin",
      "photoUrl": "https://lh6.googleusercontent.com/-fj98ABbeufg/AAAAAAAAAAI/AAAAAAAAKqQ/wS6AdNqoJ1k/s64/photo.jpg",
      "userId": "13506187371134847290"
     },
     "user_tz": -180
    },
    "id": "M1gMCogqLYTm",
    "outputId": "82e85f90-51a3-49bf-b645-0942d4e5b7ff"
   },
   "outputs": [],
   "source": [
    "for i in x:\n",
    "  print(i)"
   ]
  },
  {
   "cell_type": "code",
   "execution_count": null,
   "metadata": {
    "colab": {
     "base_uri": "https://localhost:8080/",
     "height": 34
    },
    "colab_type": "code",
    "executionInfo": {
     "elapsed": 731,
     "status": "ok",
     "timestamp": 1553673974797,
     "user": {
      "displayName": "Inanc Arin",
      "photoUrl": "https://lh6.googleusercontent.com/-fj98ABbeufg/AAAAAAAAAAI/AAAAAAAAKqQ/wS6AdNqoJ1k/s64/photo.jpg",
      "userId": "13506187371134847290"
     },
     "user_tz": -180
    },
    "id": "kejoR2_0L0U3",
    "outputId": "263ec51b-4d49-434b-b7cf-f01becb805eb"
   },
   "outputs": [],
   "source": [
    "x"
   ]
  },
  {
   "cell_type": "code",
   "execution_count": null,
   "metadata": {
    "colab": {
     "base_uri": "https://localhost:8080/",
     "height": 34
    },
    "colab_type": "code",
    "executionInfo": {
     "elapsed": 1029,
     "status": "ok",
     "timestamp": 1553674030518,
     "user": {
      "displayName": "Inanc Arin",
      "photoUrl": "https://lh6.googleusercontent.com/-fj98ABbeufg/AAAAAAAAAAI/AAAAAAAAKqQ/wS6AdNqoJ1k/s64/photo.jpg",
      "userId": "13506187371134847290"
     },
     "user_tz": -180
    },
    "id": "eGLWDnnzL3Dp",
    "outputId": "08c98d83-2506-46b0-d239-e5a080e130bc"
   },
   "outputs": [],
   "source": [
    "x2 = [0] * len(x)\n",
    "x2"
   ]
  },
  {
   "cell_type": "code",
   "execution_count": null,
   "metadata": {
    "colab": {
     "base_uri": "https://localhost:8080/",
     "height": 34
    },
    "colab_type": "code",
    "executionInfo": {
     "elapsed": 777,
     "status": "ok",
     "timestamp": 1553674165821,
     "user": {
      "displayName": "Inanc Arin",
      "photoUrl": "https://lh6.googleusercontent.com/-fj98ABbeufg/AAAAAAAAAAI/AAAAAAAAKqQ/wS6AdNqoJ1k/s64/photo.jpg",
      "userId": "13506187371134847290"
     },
     "user_tz": -180
    },
    "id": "me5gXohfMElr",
    "outputId": "de199335-0194-4139-cb33-cca99ea5de0e"
   },
   "outputs": [],
   "source": [
    "x2 = [0] * len(x)\n",
    "\n",
    "for i in range(len(x)):\n",
    "  x2[i] = x[i]**2\n",
    "x2"
   ]
  },
  {
   "cell_type": "code",
   "execution_count": null,
   "metadata": {
    "colab": {
     "base_uri": "https://localhost:8080/",
     "height": 170
    },
    "colab_type": "code",
    "executionInfo": {
     "elapsed": 970,
     "status": "ok",
     "timestamp": 1553674254367,
     "user": {
      "displayName": "Inanc Arin",
      "photoUrl": "https://lh6.googleusercontent.com/-fj98ABbeufg/AAAAAAAAAAI/AAAAAAAAKqQ/wS6AdNqoJ1k/s64/photo.jpg",
      "userId": "13506187371134847290"
     },
     "user_tz": -180
    },
    "id": "xRCfdPULMlrW",
    "outputId": "a853704f-a66c-4931-95b2-63b0995e0d23"
   },
   "outputs": [],
   "source": [
    "for a in \"cm x555\":\n",
    "  print(a)\n",
    "  "
   ]
  },
  {
   "cell_type": "code",
   "execution_count": null,
   "metadata": {
    "colab": {
     "base_uri": "https://localhost:8080/",
     "height": 170
    },
    "colab_type": "code",
    "executionInfo": {
     "elapsed": 908,
     "status": "ok",
     "timestamp": 1553674332035,
     "user": {
      "displayName": "Inanc Arin",
      "photoUrl": "https://lh6.googleusercontent.com/-fj98ABbeufg/AAAAAAAAAAI/AAAAAAAAKqQ/wS6AdNqoJ1k/s64/photo.jpg",
      "userId": "13506187371134847290"
     },
     "user_tz": -180
    },
    "id": "_u2W7Ol5M4YY",
    "outputId": "190ecc8d-2351-4e65-e777-f71325cc0d98"
   },
   "outputs": [],
   "source": [
    "s = \"cm x555\"\n",
    "for a in range(len(s)):\n",
    "  print(s[a])\n",
    "  "
   ]
  },
  {
   "cell_type": "code",
   "execution_count": null,
   "metadata": {
    "colab": {
     "base_uri": "https://localhost:8080/",
     "height": 51
    },
    "colab_type": "code",
    "executionInfo": {
     "elapsed": 6685,
     "status": "ok",
     "timestamp": 1553675100212,
     "user": {
      "displayName": "Inanc Arin",
      "photoUrl": "https://lh6.googleusercontent.com/-fj98ABbeufg/AAAAAAAAAAI/AAAAAAAAKqQ/wS6AdNqoJ1k/s64/photo.jpg",
      "userId": "13506187371134847290"
     },
     "user_tz": -180
    },
    "id": "tMCOCW0mOPed",
    "outputId": "ac915ec7-b5c8-4feb-c50f-bf6c306fb3ed"
   },
   "outputs": [],
   "source": [
    "DNA = input(\"Enter a DNA sequence: \")\n",
    "validChars = [\"A\", \"G\", \"C\", \"T\"]\n",
    "\n",
    "check = True\n",
    "for ch in DNA:\n",
    "  #if ch != \"A\" or ch != \"G\" or ...\n",
    "  if ch not in validChars:\n",
    "    check = False\n",
    "  \n",
    "  \n",
    "if check: # check == True\n",
    "  print(\"DNA is valid\")\n",
    "else:\n",
    "  print(\"DNA is invalid\")"
   ]
  },
  {
   "cell_type": "code",
   "execution_count": null,
   "metadata": {
    "colab": {
     "base_uri": "https://localhost:8080/",
     "height": 187
    },
    "colab_type": "code",
    "executionInfo": {
     "elapsed": 1024,
     "status": "ok",
     "timestamp": 1553675417552,
     "user": {
      "displayName": "Inanc Arin",
      "photoUrl": "https://lh6.googleusercontent.com/-fj98ABbeufg/AAAAAAAAAAI/AAAAAAAAKqQ/wS6AdNqoJ1k/s64/photo.jpg",
      "userId": "13506187371134847290"
     },
     "user_tz": -180
    },
    "id": "8wmcud-VQIXC",
    "outputId": "9c914c60-d02e-4336-e4e6-76818e835df4"
   },
   "outputs": [],
   "source": [
    "for i in range(10):\n",
    "  print(i)"
   ]
  },
  {
   "cell_type": "code",
   "execution_count": null,
   "metadata": {
    "colab": {
     "base_uri": "https://localhost:8080/",
     "height": 119
    },
    "colab_type": "code",
    "executionInfo": {
     "elapsed": 2396,
     "status": "ok",
     "timestamp": 1553675494457,
     "user": {
      "displayName": "Inanc Arin",
      "photoUrl": "https://lh6.googleusercontent.com/-fj98ABbeufg/AAAAAAAAAAI/AAAAAAAAKqQ/wS6AdNqoJ1k/s64/photo.jpg",
      "userId": "13506187371134847290"
     },
     "user_tz": -180
    },
    "id": "SJjwUlY_RXOL",
    "outputId": "30c22b71-ef55-4491-9e36-3065ff351020"
   },
   "outputs": [],
   "source": [
    "for i in range(10):\n",
    "  print(i)\n",
    "  if i == 5:\n",
    "    break"
   ]
  },
  {
   "cell_type": "code",
   "execution_count": null,
   "metadata": {
    "colab": {
     "base_uri": "https://localhost:8080/",
     "height": 102
    },
    "colab_type": "code",
    "executionInfo": {
     "elapsed": 1048,
     "status": "ok",
     "timestamp": 1553675597884,
     "user": {
      "displayName": "Inanc Arin",
      "photoUrl": "https://lh6.googleusercontent.com/-fj98ABbeufg/AAAAAAAAAAI/AAAAAAAAKqQ/wS6AdNqoJ1k/s64/photo.jpg",
      "userId": "13506187371134847290"
     },
     "user_tz": -180
    },
    "id": "w61vZUZNRpqN",
    "outputId": "b8a8b368-12fb-4729-faba-be8e0250f765"
   },
   "outputs": [],
   "source": [
    "for i in range(10):\n",
    "  if i == 5:\n",
    "    break\n",
    "  print(i)"
   ]
  },
  {
   "cell_type": "code",
   "execution_count": null,
   "metadata": {
    "colab": {},
    "colab_type": "code",
    "id": "ud3fakymUcXx"
   },
   "outputs": [],
   "source": [
    "import random as rnd"
   ]
  },
  {
   "cell_type": "code",
   "execution_count": null,
   "metadata": {},
   "outputs": [],
   "source": [
    "# seed ne işe yarar, bunu görmek için aşağıdaki ifadeyi 5 defa çalıştıralım, randint bize hep aynı değeri verecektir.\n",
    "# eger seed ifadesini #random.seed(4) şeklinde comment out yaparsak randint her çalıştırmada bize 1 ile 100\n",
    "# arasında farklı değer döndürecektir.\n",
    "random.seed(4)\n",
    "random.randint(1,100)"
   ]
  },
  {
   "cell_type": "code",
   "execution_count": null,
   "metadata": {
    "colab": {
     "base_uri": "https://localhost:8080/",
     "height": 272
    },
    "colab_type": "code",
    "executionInfo": {
     "elapsed": 16231,
     "status": "ok",
     "timestamp": 1553677134629,
     "user": {
      "displayName": "Inanc Arin",
      "photoUrl": "https://lh6.googleusercontent.com/-fj98ABbeufg/AAAAAAAAAAI/AAAAAAAAKqQ/wS6AdNqoJ1k/s64/photo.jpg",
      "userId": "13506187371134847290"
     },
     "user_tz": -180
    },
    "id": "Hh20cTp9Ujoz",
    "outputId": "7bc7e0da-57ec-4b51-ba50-34ef45763621"
   },
   "outputs": [],
   "source": [
    "rnd.seed(65)\n",
    "number = rnd.randint(1, 100)\n",
    "\n",
    "check = False\n",
    "for i in range(7):\n",
    "  guess = int(input(\"Enter a value: \"))\n",
    "  if number == guess:\n",
    "    print(\"Congrats! You have found the number!\")\n",
    "    check = True\n",
    "    break\n",
    "  elif number > guess:\n",
    "    print(\"Enter greater values\")\n",
    "  else:\n",
    "    print(\"Enter smaller guess\")\n",
    "\n",
    "\n",
    "if not check:\n",
    "  print(\"The number was: \", number)\n",
    "  "
   ]
  },
  {
   "cell_type": "code",
   "execution_count": null,
   "metadata": {
    "colab": {
     "base_uri": "https://localhost:8080/",
     "height": 170
    },
    "colab_type": "code",
    "executionInfo": {
     "elapsed": 761,
     "status": "ok",
     "timestamp": 1553677437077,
     "user": {
      "displayName": "Inanc Arin",
      "photoUrl": "https://lh6.googleusercontent.com/-fj98ABbeufg/AAAAAAAAAAI/AAAAAAAAKqQ/wS6AdNqoJ1k/s64/photo.jpg",
      "userId": "13506187371134847290"
     },
     "user_tz": -180
    },
    "id": "nq_6ojNAU-Ru",
    "outputId": "f6fd5272-721b-47b8-bab7-c43b13146e7f"
   },
   "outputs": [],
   "source": [
    "x = 1\n",
    "while x < 10:\n",
    "  print(x)\n",
    "  x += 1"
   ]
  },
  {
   "cell_type": "code",
   "execution_count": null,
   "metadata": {
    "colab": {
     "base_uri": "https://localhost:8080/",
     "height": 170
    },
    "colab_type": "code",
    "executionInfo": {
     "elapsed": 923,
     "status": "ok",
     "timestamp": 1553677447773,
     "user": {
      "displayName": "Inanc Arin",
      "photoUrl": "https://lh6.googleusercontent.com/-fj98ABbeufg/AAAAAAAAAAI/AAAAAAAAKqQ/wS6AdNqoJ1k/s64/photo.jpg",
      "userId": "13506187371134847290"
     },
     "user_tz": -180
    },
    "id": "mhS_eWaKZFw_",
    "outputId": "377a6bfa-fba6-40e8-f33f-002abb41e243"
   },
   "outputs": [],
   "source": [
    "x = 1\n",
    "while x < 10:\n",
    "  x += 1\n",
    "  print(x)\n",
    "  "
   ]
  },
  {
   "cell_type": "code",
   "execution_count": null,
   "metadata": {
    "colab": {
     "base_uri": "https://localhost:8080/",
     "height": 170
    },
    "colab_type": "code",
    "executionInfo": {
     "elapsed": 1168,
     "status": "ok",
     "timestamp": 1553677515464,
     "user": {
      "displayName": "Inanc Arin",
      "photoUrl": "https://lh6.googleusercontent.com/-fj98ABbeufg/AAAAAAAAAAI/AAAAAAAAKqQ/wS6AdNqoJ1k/s64/photo.jpg",
      "userId": "13506187371134847290"
     },
     "user_tz": -180
    },
    "id": "rXlwzwHXZG5s",
    "outputId": "15358b2a-a04e-49e5-d0d9-c4f4404b7944"
   },
   "outputs": [],
   "source": [
    "x = 1\n",
    "while x != 10:\n",
    "  print(x)\n",
    "  x += 1"
   ]
  },
  {
   "cell_type": "code",
   "execution_count": null,
   "metadata": {
    "colab": {
     "base_uri": "https://localhost:8080/",
     "height": 445312
    },
    "colab_type": "code",
    "executionInfo": {
     "elapsed": 5042,
     "status": "error",
     "timestamp": 1553677547239,
     "user": {
      "displayName": "Inanc Arin",
      "photoUrl": "https://lh6.googleusercontent.com/-fj98ABbeufg/AAAAAAAAAAI/AAAAAAAAKqQ/wS6AdNqoJ1k/s64/photo.jpg",
      "userId": "13506187371134847290"
     },
     "user_tz": -180
    },
    "id": "3aE5PD4ZZY6G",
    "outputId": "55647c51-55b2-4e13-bee9-111f3cb02ade"
   },
   "outputs": [],
   "source": [
    "#Infinite Loopa dikkat, ctrl+c ile çalışmayı durdurabiliriz.\n",
    "x = 1\n",
    "while x != 10:\n",
    "  print(x)\n",
    "  x += 2"
   ]
  },
  {
   "cell_type": "code",
   "execution_count": null,
   "metadata": {
    "colab": {
     "base_uri": "https://localhost:8080/",
     "height": 51
    },
    "colab_type": "code",
    "executionInfo": {
     "elapsed": 7301,
     "status": "ok",
     "timestamp": 1553677942066,
     "user": {
      "displayName": "Inanc Arin",
      "photoUrl": "https://lh6.googleusercontent.com/-fj98ABbeufg/AAAAAAAAAAI/AAAAAAAAKqQ/wS6AdNqoJ1k/s64/photo.jpg",
      "userId": "13506187371134847290"
     },
     "user_tz": -180
    },
    "id": "sTEgRbmgZ6Cl",
    "outputId": "32b626d5-48b9-462a-fb0f-c9dffd4bb95c"
   },
   "outputs": [],
   "source": [
    "#Infinite Loopa dikkat, ctrl+c ile çalışmayı durdurabiliriz.\n",
    "num = int(input(\"Enter a value: \"))\n",
    "while num < 1 or num > 10:\n",
    "  num = int(input(\"Enter a value: \"))\n",
    "  \n"
   ]
  },
  {
   "cell_type": "code",
   "execution_count": null,
   "metadata": {
    "colab": {
     "base_uri": "https://localhost:8080/",
     "height": 85
    },
    "colab_type": "code",
    "executionInfo": {
     "elapsed": 11371,
     "status": "ok",
     "timestamp": 1553678073810,
     "user": {
      "displayName": "Inanc Arin",
      "photoUrl": "https://lh6.googleusercontent.com/-fj98ABbeufg/AAAAAAAAAAI/AAAAAAAAKqQ/wS6AdNqoJ1k/s64/photo.jpg",
      "userId": "13506187371134847290"
     },
     "user_tz": -180
    },
    "id": "uruWlEFmav-Y",
    "outputId": "09985eb9-c8e9-4756-b78e-5326a59ca724"
   },
   "outputs": [],
   "source": [
    "while True:\n",
    "  num = int(input(\"Enter a value: \"))\n",
    "  if 1 <= num <= 10:\n",
    "    break\n",
    "    \n",
    "  "
   ]
  },
  {
   "cell_type": "code",
   "execution_count": null,
   "metadata": {
    "colab": {
     "base_uri": "https://localhost:8080/",
     "height": 119
    },
    "colab_type": "code",
    "executionInfo": {
     "elapsed": 14724,
     "status": "ok",
     "timestamp": 1553678387412,
     "user": {
      "displayName": "Inanc Arin",
      "photoUrl": "https://lh6.googleusercontent.com/-fj98ABbeufg/AAAAAAAAAAI/AAAAAAAAKqQ/wS6AdNqoJ1k/s64/photo.jpg",
      "userId": "13506187371134847290"
     },
     "user_tz": -180
    },
    "id": "efhdr10QbdMb",
    "outputId": "a7c41557-ce44-4156-82d3-975a731e1035"
   },
   "outputs": [],
   "source": [
    "number = rnd.randint(1,100)\n",
    "trial = 0\n",
    "\n",
    "check = True\n",
    "\n",
    "while check:\n",
    "  guess = int(input(\"Enter a value: \"))\n",
    "  trial += 1\n",
    "  if guess == number:\n",
    "    print(\"You found the number in\", trial, \"th trial\")\n",
    "    check = False\n",
    "  elif guess > number:\n",
    "    print(\"Enter smaller value\")\n",
    "  else:\n",
    "    print(\"Enter greater value\")\n",
    "    \n",
    "\n",
    "  "
   ]
  },
  {
   "cell_type": "code",
   "execution_count": null,
   "metadata": {
    "colab": {},
    "colab_type": "code",
    "id": "CG77guaQcxzF"
   },
   "outputs": [],
   "source": [
    "number = rnd.randint(1,100)\n",
    "trial = 0\n",
    "\n",
    "while True:\n",
    "  guess = int(input(\"Enter a value: \"))\n",
    "  trial += 1\n",
    "  if guess == number:\n",
    "    print(\"You found the number in\", trial, \"th trial\")\n",
    "    break\n",
    "  elif guess > number:\n",
    "    print(\"Enter smaller value\")\n",
    "  else:\n",
    "    print(\"Enter greater value\")\n",
    "    \n",
    "\n",
    "  "
   ]
  },
  {
   "cell_type": "code",
   "execution_count": null,
   "metadata": {
    "colab": {},
    "colab_type": "code",
    "id": "b1CvSyotdCaG"
   },
   "outputs": [],
   "source": [
    "number = rnd.randint(1,100)\n",
    "trial = 1\n",
    "\n",
    "guess = int(input(\"Enter a value: \"))\n",
    "while guess != number:\n",
    "  \n",
    "  trial += 1\n",
    "  if guess > number:\n",
    "    print(\"Enter smaller value\")\n",
    "  else:\n",
    "    print(\"Enter greater value\")\n",
    "  guess = int(input(\"Enter a value: \"))\n",
    "    \n",
    "\n",
    "  "
   ]
  },
  {
   "cell_type": "code",
   "execution_count": null,
   "metadata": {
    "colab": {
     "base_uri": "https://localhost:8080/",
     "height": 34
    },
    "colab_type": "code",
    "executionInfo": {
     "elapsed": 945,
     "status": "ok",
     "timestamp": 1553683582303,
     "user": {
      "displayName": "Inanc Arin",
      "photoUrl": "https://lh6.googleusercontent.com/-fj98ABbeufg/AAAAAAAAAAI/AAAAAAAAKqQ/wS6AdNqoJ1k/s64/photo.jpg",
      "userId": "13506187371134847290"
     },
     "user_tz": -180
    },
    "id": "1m8j6cRGvr5v",
    "outputId": "4a7ed513-d0dc-4f93-e60e-3d6d93a9c9e0"
   },
   "outputs": [],
   "source": [
    "myList = [10, 7, 101, 1888, 3, 20]\n",
    "minElement = min(myList)\n",
    "#myList.index(minElement)\n",
    "\n",
    "for index in range(len(myList)):\n",
    "  if myList[index] == minElement:\n",
    "    print(index)\n",
    "    break"
   ]
  },
  {
   "cell_type": "code",
   "execution_count": null,
   "metadata": {
    "colab": {
     "base_uri": "https://localhost:8080/",
     "height": 34
    },
    "colab_type": "code",
    "executionInfo": {
     "elapsed": 1094,
     "status": "ok",
     "timestamp": 1553683783239,
     "user": {
      "displayName": "Inanc Arin",
      "photoUrl": "https://lh6.googleusercontent.com/-fj98ABbeufg/AAAAAAAAAAI/AAAAAAAAKqQ/wS6AdNqoJ1k/s64/photo.jpg",
      "userId": "13506187371134847290"
     },
     "user_tz": -180
    },
    "id": "sdH2RR4tv2AX",
    "outputId": "0523f621-366b-4cfe-c388-a440550e49a2"
   },
   "outputs": [],
   "source": [
    "myList = [10, 7, 101, 1888, 3, 20, 3]\n",
    "minElement = min(myList)\n",
    "#myList.index(minElement)\n",
    "\n",
    "for index in range(len(myList)-1, -1, -1):\n",
    "  if myList[index] == minElement:\n",
    "    print(index)\n",
    "    break\n",
    "    \n",
    "    "
   ]
  },
  {
   "cell_type": "code",
   "execution_count": null,
   "metadata": {
    "colab": {
     "base_uri": "https://localhost:8080/",
     "height": 34
    },
    "colab_type": "code",
    "executionInfo": {
     "elapsed": 996,
     "status": "ok",
     "timestamp": 1553683724725,
     "user": {
      "displayName": "Inanc Arin",
      "photoUrl": "https://lh6.googleusercontent.com/-fj98ABbeufg/AAAAAAAAAAI/AAAAAAAAKqQ/wS6AdNqoJ1k/s64/photo.jpg",
      "userId": "13506187371134847290"
     },
     "user_tz": -180
    },
    "id": "Lhpa2qZXwoDs",
    "outputId": "122019d0-cdcb-45d4-de5a-af689ffef08c"
   },
   "outputs": [],
   "source": [
    "myList = [10, 7, 101, 1888, 3, 20, 3]\n",
    "list(range(len(myList)-1, -1, -1))"
   ]
  },
  {
   "cell_type": "code",
   "execution_count": null,
   "metadata": {
    "colab": {},
    "colab_type": "code",
    "id": "CB_kZAdJzUww"
   },
   "outputs": [],
   "source": [
    "myList = [10, 7, 101, 1888, 3, 20, 3]\n",
    "list(range(len(myList)))"
   ]
  }
 ],
 "metadata": {
  "colab": {
   "name": "LectureWork.ipynb",
   "provenance": [],
   "version": "0.3.2"
  },
  "kernelspec": {
   "display_name": "Python 3",
   "language": "python",
   "name": "python3"
  },
  "language_info": {
   "codemirror_mode": {
    "name": "ipython",
    "version": 3
   },
   "file_extension": ".py",
   "mimetype": "text/x-python",
   "name": "python",
   "nbconvert_exporter": "python",
   "pygments_lexer": "ipython3",
   "version": "3.6.4"
  }
 },
 "nbformat": 4,
 "nbformat_minor": 1
}
